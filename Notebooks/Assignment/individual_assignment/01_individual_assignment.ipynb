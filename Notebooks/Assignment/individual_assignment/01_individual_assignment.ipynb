{
 "cells": [
  {
   "cell_type": "markdown",
   "id": "795860f2-eabf-40d1-954c-843dcf672a7d",
   "metadata": {},
   "source": [
    "# MGT-499 Statistics and Data Science - Individual Assignment"
   ]
  },
  {
   "cell_type": "code",
   "execution_count": 1,
   "id": "6a58faf4-db28-41c1-9e6d-ead96d328eab",
   "metadata": {},
   "outputs": [],
   "source": [
    "# Import here what you need\n",
    "import pandas as pd\n",
    "import numpy as np"
   ]
  },
  {
   "cell_type": "markdown",
   "id": "76e5761d-3238-4e69-951f-6fea4557ef41",
   "metadata": {},
   "source": [
    "This notebook contains the individual assignment for the class MGT-499 Statistics and Data Science. Important information:\n",
    "- **Content**: the assignment is divided in two main parts, namely data cleaning (2 datasets) and Exploratory Data Analysis, for a total of 13 main questions (see table of contents). Some of these main questions are divided in sub questions. In the first part, the questions are very specific, while in the second part they are more open.\n",
    "- **Deadline**: Tuesday 8th of November at 23:59. \n",
    "- **Final Output**: a Jupyter notebook, which we (teachers) can run. \n",
    "- **Answering the Questions**: you will find the questions in markdown cells below. Under each of these cells, you will find a cell / cells for answers. Type there your answer. For the answer to be correct, the cell with the answer must run without error (unless specified). You can use markdown cells for the answers that require text.\n",
    "- **Submission**: submit the assignment on Moodle, under [Individual Assignment](https://moodle.epfl.ch/mod/assign/view.php?id=1222846)"
   ]
  },
  {
   "cell_type": "markdown",
   "id": "91e43ccf-9ed6-44ea-8dd3-184cb9e7c499",
   "metadata": {
    "tags": []
   },
   "source": [
    "## Content\n",
    "- [Polity5 Dataset](#polity5)  \n",
    "    - [Question 1: Import the data and get a first glance](#question1)\n",
    "    - [Question 2: Select some variables](#question2)\n",
    "    - [Question 3: Missing Values](#question3)\n",
    "    - [Question 4: Check Polity2](#question4)\n",
    "- [Quality of Government (QOG) Environmental Indicators Dataset](#qog)  \n",
    "    - [Question 5: Import the data and do few fixes](#question5)\n",
    "    - [Question 6: Merge QOG and Polity5 ... first attempt](#question6)\n",
    "    - [Question 7: Merge QOG and Polity5 ... second attempt](#question7)\n",
    "    - [Question 8: Clean the merged dataframe](#question8)\n",
    "- [Exploratory Data Analysis](#eda)\n",
    "    - [Question 9: Selecting the ingredients for the recipe (how I select the variables)](#question9)  \n",
    "    - [Question 10: Picking the right quantity of each ingredient (how I select my sample)](#question10)\n",
    "    - [Question 11: Tasting and preparing the ingredients (univariate analysis)](#question11)\n",
    "    - [Question 12: Cooking the ingredients together (bivariate analysis)](#question12)\n",
    "    - [Question 13: Tasting the new recipe (conclusion)](#question13)"
   ]
  },
  {
   "cell_type": "markdown",
   "id": "4142f738-6239-4e12-9c65-fd27b4db73ca",
   "metadata": {
    "tags": []
   },
   "source": [
    "## Polity5 data <a class=\"anchor\" id=\"polity5\"></a>\n",
    "\n",
    "Polity5 is a widely used democracy scale. The raw data as well as the codebook are available [here](http://www.systemicpeace.org/inscrdata.html). For this assignment, we have modified a bit the original version, for example we have added the iso3 code for countries to make you save time. You can find the modified version [here](https://raw.githubusercontent.com/edoardochiarotti/class_datascience/main/Notebooks/Assignment/individual_assignment/data/polity2_iso3.csv)."
   ]
  },
  {
   "cell_type": "markdown",
   "id": "e903da7f-480e-4777-a4ef-9ab94b09e473",
   "metadata": {},
   "source": [
    "### Question 1: import the data and get a first glance <a class=\"anchor\" id=\"question1\"></a>"
   ]
  },
  {
   "cell_type": "markdown",
   "id": "187f6829-6c8f-451a-9670-4d1c7a103c12",
   "metadata": {},
   "source": [
    "1a) Import the csv 'polity2_iso3.csv' (file provided in the link [here](https://raw.githubusercontent.com/edoardochiarotti/class_datascience/main/Notebooks/Assignment/individual_assignment/data/polity2_iso3.csv)) as a panda dataframe (ignore the warning message) **(1 point)**"
   ]
  },
  {
   "cell_type": "code",
   "execution_count": 2,
   "id": "ee7e4014-e55c-4994-a633-61a8fdf1e855",
   "metadata": {},
   "outputs": [
    {
     "name": "stderr",
     "output_type": "stream",
     "text": [
      "C:\\Users\\paula\\AppData\\Local\\Temp\\ipykernel_18068\\1054286313.py:4: DtypeWarning: Columns (13,23,24,25,26,27,28,29,30,31,32,33,34,35,36,37) have mixed types. Specify dtype option on import or set low_memory=False.\n",
      "  df=pd.read_csv(url)\n"
     ]
    }
   ],
   "source": [
    "# Answer 1a\n",
    "url = \"https://raw.githubusercontent.com/edoardochiarotti/class_datascience/main/Notebooks/Assignment/individual_assignment/data/polity2_iso3.csv\"\n",
    "\n",
    "df=pd.read_csv(url)"
   ]
  },
  {
   "cell_type": "markdown",
   "id": "fd738c61-10ca-4439-8bcf-20e6987e3e5f",
   "metadata": {},
   "source": [
    "1b) Display the first 10 rows **(1 point)**"
   ]
  },
  {
   "cell_type": "code",
   "execution_count": 3,
   "id": "10544e0c-33b5-4b90-ad68-4cfe8d6c40b9",
   "metadata": {},
   "outputs": [
    {
     "data": {
      "text/html": [
       "<div>\n",
       "<style scoped>\n",
       "    .dataframe tbody tr th:only-of-type {\n",
       "        vertical-align: middle;\n",
       "    }\n",
       "\n",
       "    .dataframe tbody tr th {\n",
       "        vertical-align: top;\n",
       "    }\n",
       "\n",
       "    .dataframe thead th {\n",
       "        text-align: right;\n",
       "    }\n",
       "</style>\n",
       "<table border=\"1\" class=\"dataframe\">\n",
       "  <thead>\n",
       "    <tr style=\"text-align: right;\">\n",
       "      <th></th>\n",
       "      <th>iso3</th>\n",
       "      <th>year</th>\n",
       "      <th>p5</th>\n",
       "      <th>cyear</th>\n",
       "      <th>ccode</th>\n",
       "      <th>scode</th>\n",
       "      <th>country</th>\n",
       "      <th>flag</th>\n",
       "      <th>fragment</th>\n",
       "      <th>democ</th>\n",
       "      <th>...</th>\n",
       "      <th>interim</th>\n",
       "      <th>bmonth</th>\n",
       "      <th>bday</th>\n",
       "      <th>byear</th>\n",
       "      <th>bprec</th>\n",
       "      <th>post</th>\n",
       "      <th>change</th>\n",
       "      <th>d5</th>\n",
       "      <th>sf</th>\n",
       "      <th>regtrans</th>\n",
       "    </tr>\n",
       "  </thead>\n",
       "  <tbody>\n",
       "    <tr>\n",
       "      <th>0</th>\n",
       "      <td>NaN</td>\n",
       "      <td>1800</td>\n",
       "      <td>0</td>\n",
       "      <td>2711800</td>\n",
       "      <td>271</td>\n",
       "      <td>WRT</td>\n",
       "      <td>Wuerttemburg</td>\n",
       "      <td>0</td>\n",
       "      <td>NaN</td>\n",
       "      <td>0</td>\n",
       "      <td>...</td>\n",
       "      <td>NaN</td>\n",
       "      <td>1.0</td>\n",
       "      <td>1.0</td>\n",
       "      <td>1800.0</td>\n",
       "      <td>1.0</td>\n",
       "      <td>-7.0</td>\n",
       "      <td>88.0</td>\n",
       "      <td>1.0</td>\n",
       "      <td>NaN</td>\n",
       "      <td>NaN</td>\n",
       "    </tr>\n",
       "    <tr>\n",
       "      <th>1</th>\n",
       "      <td>NaN</td>\n",
       "      <td>1800</td>\n",
       "      <td>0</td>\n",
       "      <td>7301800</td>\n",
       "      <td>730</td>\n",
       "      <td>KOR</td>\n",
       "      <td>Korea</td>\n",
       "      <td>0</td>\n",
       "      <td>NaN</td>\n",
       "      <td>5</td>\n",
       "      <td>...</td>\n",
       "      <td>NaN</td>\n",
       "      <td>1.0</td>\n",
       "      <td>1.0</td>\n",
       "      <td>1800.0</td>\n",
       "      <td>1.0</td>\n",
       "      <td>1.0</td>\n",
       "      <td>88.0</td>\n",
       "      <td>1.0</td>\n",
       "      <td>NaN</td>\n",
       "      <td>NaN</td>\n",
       "    </tr>\n",
       "    <tr>\n",
       "      <th>2</th>\n",
       "      <td>NaN</td>\n",
       "      <td>1800</td>\n",
       "      <td>0</td>\n",
       "      <td>2451800</td>\n",
       "      <td>245</td>\n",
       "      <td>BAV</td>\n",
       "      <td>Bavaria</td>\n",
       "      <td>0</td>\n",
       "      <td>NaN</td>\n",
       "      <td>0</td>\n",
       "      <td>...</td>\n",
       "      <td>NaN</td>\n",
       "      <td>1.0</td>\n",
       "      <td>1.0</td>\n",
       "      <td>1800.0</td>\n",
       "      <td>1.0</td>\n",
       "      <td>-10.0</td>\n",
       "      <td>88.0</td>\n",
       "      <td>1.0</td>\n",
       "      <td>NaN</td>\n",
       "      <td>NaN</td>\n",
       "    </tr>\n",
       "    <tr>\n",
       "      <th>3</th>\n",
       "      <td>NaN</td>\n",
       "      <td>1801</td>\n",
       "      <td>0</td>\n",
       "      <td>7301801</td>\n",
       "      <td>730</td>\n",
       "      <td>KOR</td>\n",
       "      <td>Korea</td>\n",
       "      <td>0</td>\n",
       "      <td>NaN</td>\n",
       "      <td>5</td>\n",
       "      <td>...</td>\n",
       "      <td>NaN</td>\n",
       "      <td>NaN</td>\n",
       "      <td>NaN</td>\n",
       "      <td>NaN</td>\n",
       "      <td>NaN</td>\n",
       "      <td>NaN</td>\n",
       "      <td>NaN</td>\n",
       "      <td>NaN</td>\n",
       "      <td>NaN</td>\n",
       "      <td>NaN</td>\n",
       "    </tr>\n",
       "    <tr>\n",
       "      <th>4</th>\n",
       "      <td>NaN</td>\n",
       "      <td>1801</td>\n",
       "      <td>0</td>\n",
       "      <td>2711801</td>\n",
       "      <td>271</td>\n",
       "      <td>WRT</td>\n",
       "      <td>Wuerttemburg</td>\n",
       "      <td>0</td>\n",
       "      <td>NaN</td>\n",
       "      <td>0</td>\n",
       "      <td>...</td>\n",
       "      <td>NaN</td>\n",
       "      <td>NaN</td>\n",
       "      <td>NaN</td>\n",
       "      <td>NaN</td>\n",
       "      <td>NaN</td>\n",
       "      <td>NaN</td>\n",
       "      <td>NaN</td>\n",
       "      <td>NaN</td>\n",
       "      <td>NaN</td>\n",
       "      <td>NaN</td>\n",
       "    </tr>\n",
       "    <tr>\n",
       "      <th>5</th>\n",
       "      <td>NaN</td>\n",
       "      <td>1801</td>\n",
       "      <td>0</td>\n",
       "      <td>2451801</td>\n",
       "      <td>245</td>\n",
       "      <td>BAV</td>\n",
       "      <td>Bavaria</td>\n",
       "      <td>0</td>\n",
       "      <td>NaN</td>\n",
       "      <td>0</td>\n",
       "      <td>...</td>\n",
       "      <td>NaN</td>\n",
       "      <td>NaN</td>\n",
       "      <td>NaN</td>\n",
       "      <td>NaN</td>\n",
       "      <td>NaN</td>\n",
       "      <td>NaN</td>\n",
       "      <td>NaN</td>\n",
       "      <td>NaN</td>\n",
       "      <td>NaN</td>\n",
       "      <td>NaN</td>\n",
       "    </tr>\n",
       "    <tr>\n",
       "      <th>6</th>\n",
       "      <td>NaN</td>\n",
       "      <td>1802</td>\n",
       "      <td>0</td>\n",
       "      <td>7301802</td>\n",
       "      <td>730</td>\n",
       "      <td>KOR</td>\n",
       "      <td>Korea</td>\n",
       "      <td>0</td>\n",
       "      <td>NaN</td>\n",
       "      <td>5</td>\n",
       "      <td>...</td>\n",
       "      <td>NaN</td>\n",
       "      <td>NaN</td>\n",
       "      <td>NaN</td>\n",
       "      <td>NaN</td>\n",
       "      <td>NaN</td>\n",
       "      <td>NaN</td>\n",
       "      <td>NaN</td>\n",
       "      <td>NaN</td>\n",
       "      <td>NaN</td>\n",
       "      <td>NaN</td>\n",
       "    </tr>\n",
       "    <tr>\n",
       "      <th>7</th>\n",
       "      <td>NaN</td>\n",
       "      <td>1802</td>\n",
       "      <td>0</td>\n",
       "      <td>2711802</td>\n",
       "      <td>271</td>\n",
       "      <td>WRT</td>\n",
       "      <td>Wuerttemburg</td>\n",
       "      <td>0</td>\n",
       "      <td>NaN</td>\n",
       "      <td>0</td>\n",
       "      <td>...</td>\n",
       "      <td>NaN</td>\n",
       "      <td>NaN</td>\n",
       "      <td>NaN</td>\n",
       "      <td>NaN</td>\n",
       "      <td>NaN</td>\n",
       "      <td>NaN</td>\n",
       "      <td>NaN</td>\n",
       "      <td>NaN</td>\n",
       "      <td>NaN</td>\n",
       "      <td>NaN</td>\n",
       "    </tr>\n",
       "    <tr>\n",
       "      <th>8</th>\n",
       "      <td>NaN</td>\n",
       "      <td>1802</td>\n",
       "      <td>0</td>\n",
       "      <td>2451802</td>\n",
       "      <td>245</td>\n",
       "      <td>BAV</td>\n",
       "      <td>Bavaria</td>\n",
       "      <td>0</td>\n",
       "      <td>NaN</td>\n",
       "      <td>0</td>\n",
       "      <td>...</td>\n",
       "      <td>NaN</td>\n",
       "      <td>NaN</td>\n",
       "      <td>NaN</td>\n",
       "      <td>NaN</td>\n",
       "      <td>NaN</td>\n",
       "      <td>NaN</td>\n",
       "      <td>NaN</td>\n",
       "      <td>NaN</td>\n",
       "      <td>NaN</td>\n",
       "      <td>NaN</td>\n",
       "    </tr>\n",
       "    <tr>\n",
       "      <th>9</th>\n",
       "      <td>NaN</td>\n",
       "      <td>1803</td>\n",
       "      <td>0</td>\n",
       "      <td>7301803</td>\n",
       "      <td>730</td>\n",
       "      <td>KOR</td>\n",
       "      <td>Korea</td>\n",
       "      <td>0</td>\n",
       "      <td>NaN</td>\n",
       "      <td>5</td>\n",
       "      <td>...</td>\n",
       "      <td>NaN</td>\n",
       "      <td>NaN</td>\n",
       "      <td>NaN</td>\n",
       "      <td>NaN</td>\n",
       "      <td>NaN</td>\n",
       "      <td>NaN</td>\n",
       "      <td>NaN</td>\n",
       "      <td>NaN</td>\n",
       "      <td>NaN</td>\n",
       "      <td>NaN</td>\n",
       "    </tr>\n",
       "  </tbody>\n",
       "</table>\n",
       "<p>10 rows × 38 columns</p>\n",
       "</div>"
      ],
      "text/plain": [
       "  iso3  year  p5    cyear  ccode scode       country  flag  fragment  democ  \\\n",
       "0  NaN  1800   0  2711800    271   WRT  Wuerttemburg     0       NaN      0   \n",
       "1  NaN  1800   0  7301800    730   KOR         Korea     0       NaN      5   \n",
       "2  NaN  1800   0  2451800    245   BAV       Bavaria     0       NaN      0   \n",
       "3  NaN  1801   0  7301801    730   KOR         Korea     0       NaN      5   \n",
       "4  NaN  1801   0  2711801    271   WRT  Wuerttemburg     0       NaN      0   \n",
       "5  NaN  1801   0  2451801    245   BAV       Bavaria     0       NaN      0   \n",
       "6  NaN  1802   0  7301802    730   KOR         Korea     0       NaN      5   \n",
       "7  NaN  1802   0  2711802    271   WRT  Wuerttemburg     0       NaN      0   \n",
       "8  NaN  1802   0  2451802    245   BAV       Bavaria     0       NaN      0   \n",
       "9  NaN  1803   0  7301803    730   KOR         Korea     0       NaN      5   \n",
       "\n",
       "   ...  interim  bmonth  bday   byear  bprec  post  change   d5   sf  regtrans  \n",
       "0  ...      NaN     1.0   1.0  1800.0    1.0  -7.0    88.0  1.0  NaN       NaN  \n",
       "1  ...      NaN     1.0   1.0  1800.0    1.0   1.0    88.0  1.0  NaN       NaN  \n",
       "2  ...      NaN     1.0   1.0  1800.0    1.0 -10.0    88.0  1.0  NaN       NaN  \n",
       "3  ...      NaN     NaN   NaN     NaN    NaN   NaN     NaN  NaN  NaN       NaN  \n",
       "4  ...      NaN     NaN   NaN     NaN    NaN   NaN     NaN  NaN  NaN       NaN  \n",
       "5  ...      NaN     NaN   NaN     NaN    NaN   NaN     NaN  NaN  NaN       NaN  \n",
       "6  ...      NaN     NaN   NaN     NaN    NaN   NaN     NaN  NaN  NaN       NaN  \n",
       "7  ...      NaN     NaN   NaN     NaN    NaN   NaN     NaN  NaN  NaN       NaN  \n",
       "8  ...      NaN     NaN   NaN     NaN    NaN   NaN     NaN  NaN  NaN       NaN  \n",
       "9  ...      NaN     NaN   NaN     NaN    NaN   NaN     NaN  NaN  NaN       NaN  \n",
       "\n",
       "[10 rows x 38 columns]"
      ]
     },
     "execution_count": 3,
     "metadata": {},
     "output_type": "execute_result"
    }
   ],
   "source": [
    "# Answer 1b\n",
    "df.head(10)"
   ]
  },
  {
   "cell_type": "markdown",
   "id": "a6decfca-afb8-4c77-881c-8fb78d96e68d",
   "metadata": {},
   "source": [
    "1c) Display the data types of all the variables included in the data **(1 point)**"
   ]
  },
  {
   "cell_type": "code",
   "execution_count": 4,
   "id": "aa768541-03f9-424a-a690-d6132298f36a",
   "metadata": {},
   "outputs": [
    {
     "data": {
      "text/plain": [
       "iso3         object\n",
       "year          int64\n",
       "p5            int64\n",
       "cyear         int64\n",
       "ccode         int64\n",
       "scode        object\n",
       "country      object\n",
       "flag          int64\n",
       "fragment    float64\n",
       "democ         int64\n",
       "autoc         int64\n",
       "polity        int64\n",
       "polity2     float64\n",
       "durable      object\n",
       "xrreg         int64\n",
       "xrcomp        int64\n",
       "xropen        int64\n",
       "xconst        int64\n",
       "parreg        int64\n",
       "parcomp       int64\n",
       "exrec       float64\n",
       "exconst       int64\n",
       "polcomp     float64\n",
       "prior        object\n",
       "emonth       object\n",
       "eday         object\n",
       "eyear        object\n",
       "eprec        object\n",
       "interim      object\n",
       "bmonth       object\n",
       "bday         object\n",
       "byear        object\n",
       "bprec        object\n",
       "post         object\n",
       "change       object\n",
       "d5           object\n",
       "sf           object\n",
       "regtrans     object\n",
       "dtype: object"
      ]
     },
     "execution_count": 4,
     "metadata": {},
     "output_type": "execute_result"
    }
   ],
   "source": [
    "# Answer 1c\n",
    "df.dtypes"
   ]
  },
  {
   "cell_type": "markdown",
   "id": "312ee31a-7cc9-44d2-b7f8-242f6ee5ebfc",
   "metadata": {},
   "source": [
    "1d) By looking at your answer in 1c, what is the difference between the different types of variables? Why the type of some variables is defined as object? **(1 point)**"
   ]
  },
  {
   "cell_type": "markdown",
   "id": "ca97f628-71b6-4aac-9c9c-596773557131",
   "metadata": {},
   "source": [
    "Answer 1d:\n",
    "As you can see, Pandas is using different names for data types. Here is a description:\n",
    "\n",
    "|Pandas type|Native Python type|Description|\n",
    "|:-------|:-------|:----------|\n",
    "|`object` | `string` | The most general dtype. Will be assigned to your column if column has mixed types (numbers and strings). |\n",
    "|`int64` | `int` | Numeric characters. 64 refers to the memory allocated to hold this character. |\n",
    "|`float64` | `float` | Numeric characters with decimals. If a column contains numbers and NaNs (see below), pandas will default to float64, in case your missing value has a decimal.|\n",
    "\n",
    "Our data frame contains `object` (e.g., strings like countries), `int64` and `float64`. You may wonder about the emissions of arsenic (As), nickel (Ni), and chromium (Cr), which are apparently `object` type. We will discover why later."
   ]
  },
  {
   "cell_type": "markdown",
   "id": "5bfba84f-b897-4fcb-880d-9d8995045239",
   "metadata": {},
   "source": [
    "### Question 2. Select some variables <a class=\"anchor\" id=\"question2\"></a>"
   ]
  },
  {
   "cell_type": "markdown",
   "id": "09a9776a-26ed-4154-af73-0e2b337e9e74",
   "metadata": {},
   "source": [
    "2a) Create a subset dataframe that contains the variables 'iso3', 'country', 'year', 'polity2' and display it **(1 point)**"
   ]
  },
  {
   "cell_type": "code",
   "execution_count": 5,
   "id": "b3bd0a39-386d-4397-93eb-8eb7e0415a7b",
   "metadata": {},
   "outputs": [
    {
     "data": {
      "text/html": [
       "<div>\n",
       "<style scoped>\n",
       "    .dataframe tbody tr th:only-of-type {\n",
       "        vertical-align: middle;\n",
       "    }\n",
       "\n",
       "    .dataframe tbody tr th {\n",
       "        vertical-align: top;\n",
       "    }\n",
       "\n",
       "    .dataframe thead th {\n",
       "        text-align: right;\n",
       "    }\n",
       "</style>\n",
       "<table border=\"1\" class=\"dataframe\">\n",
       "  <thead>\n",
       "    <tr style=\"text-align: right;\">\n",
       "      <th></th>\n",
       "      <th>iso3</th>\n",
       "      <th>country</th>\n",
       "      <th>year</th>\n",
       "      <th>polity2</th>\n",
       "    </tr>\n",
       "  </thead>\n",
       "  <tbody>\n",
       "    <tr>\n",
       "      <th>0</th>\n",
       "      <td>NaN</td>\n",
       "      <td>Wuerttemburg</td>\n",
       "      <td>1800</td>\n",
       "      <td>-7.0</td>\n",
       "    </tr>\n",
       "    <tr>\n",
       "      <th>1</th>\n",
       "      <td>NaN</td>\n",
       "      <td>Korea</td>\n",
       "      <td>1800</td>\n",
       "      <td>1.0</td>\n",
       "    </tr>\n",
       "    <tr>\n",
       "      <th>2</th>\n",
       "      <td>NaN</td>\n",
       "      <td>Bavaria</td>\n",
       "      <td>1800</td>\n",
       "      <td>-10.0</td>\n",
       "    </tr>\n",
       "    <tr>\n",
       "      <th>3</th>\n",
       "      <td>NaN</td>\n",
       "      <td>Korea</td>\n",
       "      <td>1801</td>\n",
       "      <td>1.0</td>\n",
       "    </tr>\n",
       "    <tr>\n",
       "      <th>4</th>\n",
       "      <td>NaN</td>\n",
       "      <td>Wuerttemburg</td>\n",
       "      <td>1801</td>\n",
       "      <td>-7.0</td>\n",
       "    </tr>\n",
       "    <tr>\n",
       "      <th>...</th>\n",
       "      <td>...</td>\n",
       "      <td>...</td>\n",
       "      <td>...</td>\n",
       "      <td>...</td>\n",
       "    </tr>\n",
       "    <tr>\n",
       "      <th>17569</th>\n",
       "      <td>ZWE</td>\n",
       "      <td>Zimbabwe</td>\n",
       "      <td>2014</td>\n",
       "      <td>4.0</td>\n",
       "    </tr>\n",
       "    <tr>\n",
       "      <th>17570</th>\n",
       "      <td>ZWE</td>\n",
       "      <td>Zimbabwe</td>\n",
       "      <td>2015</td>\n",
       "      <td>4.0</td>\n",
       "    </tr>\n",
       "    <tr>\n",
       "      <th>17571</th>\n",
       "      <td>ZWE</td>\n",
       "      <td>Zimbabwe</td>\n",
       "      <td>2016</td>\n",
       "      <td>4.0</td>\n",
       "    </tr>\n",
       "    <tr>\n",
       "      <th>17572</th>\n",
       "      <td>ZWE</td>\n",
       "      <td>Zimbabwe</td>\n",
       "      <td>2017</td>\n",
       "      <td>4.0</td>\n",
       "    </tr>\n",
       "    <tr>\n",
       "      <th>17573</th>\n",
       "      <td>ZWE</td>\n",
       "      <td>Zimbabwe</td>\n",
       "      <td>2018</td>\n",
       "      <td>4.0</td>\n",
       "    </tr>\n",
       "  </tbody>\n",
       "</table>\n",
       "<p>17574 rows × 4 columns</p>\n",
       "</div>"
      ],
      "text/plain": [
       "      iso3       country  year  polity2\n",
       "0      NaN  Wuerttemburg  1800     -7.0\n",
       "1      NaN         Korea  1800      1.0\n",
       "2      NaN       Bavaria  1800    -10.0\n",
       "3      NaN         Korea  1801      1.0\n",
       "4      NaN  Wuerttemburg  1801     -7.0\n",
       "...    ...           ...   ...      ...\n",
       "17569  ZWE      Zimbabwe  2014      4.0\n",
       "17570  ZWE      Zimbabwe  2015      4.0\n",
       "17571  ZWE      Zimbabwe  2016      4.0\n",
       "17572  ZWE      Zimbabwe  2017      4.0\n",
       "17573  ZWE      Zimbabwe  2018      4.0\n",
       "\n",
       "[17574 rows x 4 columns]"
      ]
     },
     "execution_count": 5,
     "metadata": {},
     "output_type": "execute_result"
    }
   ],
   "source": [
    "# Answer 2a\n",
    "df_subset = df.loc[:, ('iso3', 'country','year','polity2')]\n",
    "df_subset"
   ]
  },
  {
   "cell_type": "markdown",
   "id": "8bd4883d-8f9e-4b1f-9ce4-c62267090287",
   "metadata": {},
   "source": [
    "2b) Display the type of the variable \"year\" **(1 point)**"
   ]
  },
  {
   "cell_type": "code",
   "execution_count": 6,
   "id": "d0dc6b73-70d9-42c0-9cd1-716033325a43",
   "metadata": {},
   "outputs": [
    {
     "data": {
      "text/plain": [
       "dtype('int64')"
      ]
     },
     "execution_count": 6,
     "metadata": {},
     "output_type": "execute_result"
    }
   ],
   "source": [
    "# Answer 2b\n",
    "df_subset.dtypes[\"year\"]"
   ]
  },
  {
   "cell_type": "markdown",
   "id": "c639b2d3-b5e6-40f3-93c9-6547bcdcb814",
   "metadata": {},
   "source": [
    "2c) Convert the variable \"year\" to string **(1 point)**\n",
    "<br>\n",
    "Hint: if you get a warning message of the type \"SettingWithCopyWarning\", it is because you did not subset the data in the right way. Go back to your class notes and check the different ways to subset a dataframe, and try again. If you do it correctly, you will not get the warning message."
   ]
  },
  {
   "cell_type": "code",
   "execution_count": 7,
   "id": "914d8f60-9875-40be-9f78-0c7c2837a104",
   "metadata": {},
   "outputs": [
    {
     "data": {
      "text/plain": [
       "iso3        object\n",
       "country     object\n",
       "year        object\n",
       "polity2    float64\n",
       "dtype: object"
      ]
     },
     "execution_count": 7,
     "metadata": {},
     "output_type": "execute_result"
    }
   ],
   "source": [
    "# Answer 2c\n",
    "df_subset['year'] = df_subset['year'].apply(str)\n",
    "\n",
    "df_subset.dtypes"
   ]
  },
  {
   "cell_type": "code",
   "execution_count": 8,
   "id": "56bb29e8",
   "metadata": {
    "scrolled": true
   },
   "outputs": [
    {
     "name": "stdout",
     "output_type": "stream",
     "text": [
      "object\n"
     ]
    }
   ],
   "source": [
    "print(df_subset.dtypes[\"year\"])"
   ]
  },
  {
   "cell_type": "code",
   "execution_count": 9,
   "id": "e1671913",
   "metadata": {},
   "outputs": [
    {
     "data": {
      "text/plain": [
       "iso3        object\n",
       "country     object\n",
       "year        object\n",
       "polity2    float64\n",
       "dtype: object"
      ]
     },
     "execution_count": 9,
     "metadata": {},
     "output_type": "execute_result"
    }
   ],
   "source": [
    "df_subset.dtypes"
   ]
  },
  {
   "cell_type": "code",
   "execution_count": 10,
   "id": "039f5b71",
   "metadata": {},
   "outputs": [
    {
     "data": {
      "text/plain": [
       "dtype('O')"
      ]
     },
     "execution_count": 10,
     "metadata": {},
     "output_type": "execute_result"
    }
   ],
   "source": [
    "df_subset.dtypes[\"year\"]"
   ]
  },
  {
   "cell_type": "markdown",
   "id": "1e0babf3-0e33-4e13-9289-523ecef5e004",
   "metadata": {},
   "source": [
    "### Question 3: Missing Values <a class=\"anchor\" id=\"question3\"></a>"
   ]
  },
  {
   "cell_type": "markdown",
   "id": "9bb19a0f-bd7c-4d9c-bdfa-05e55e4eb26f",
   "metadata": {},
   "source": [
    "3a) Subset the rows that have iso3 missing and display **(1 point)**"
   ]
  },
  {
   "cell_type": "code",
   "execution_count": 11,
   "id": "7eb48bb3-a92a-4565-8a5c-f22f642f2661",
   "metadata": {
    "scrolled": true
   },
   "outputs": [
    {
     "data": {
      "text/plain": [
       "0         True\n",
       "1         True\n",
       "2         True\n",
       "3         True\n",
       "4         True\n",
       "         ...  \n",
       "17569    False\n",
       "17570    False\n",
       "17571    False\n",
       "17572    False\n",
       "17573    False\n",
       "Name: iso3, Length: 17574, dtype: bool"
      ]
     },
     "execution_count": 11,
     "metadata": {},
     "output_type": "execute_result"
    }
   ],
   "source": [
    "# Answer 3a\n",
    "df_subset['iso3'].isna()"
   ]
  },
  {
   "cell_type": "code",
   "execution_count": 12,
   "id": "75d891fd",
   "metadata": {},
   "outputs": [
    {
     "data": {
      "text/plain": [
       "nan"
      ]
     },
     "execution_count": 12,
     "metadata": {},
     "output_type": "execute_result"
    }
   ],
   "source": [
    "df.loc[0, 'iso3']"
   ]
  },
  {
   "cell_type": "code",
   "execution_count": 13,
   "id": "3dd92660",
   "metadata": {},
   "outputs": [
    {
     "data": {
      "text/plain": [
       "0         True\n",
       "1         True\n",
       "2         True\n",
       "3         True\n",
       "4         True\n",
       "         ...  \n",
       "17569    False\n",
       "17570    False\n",
       "17571    False\n",
       "17572    False\n",
       "17573    False\n",
       "Name: iso3, Length: 17574, dtype: bool"
      ]
     },
     "execution_count": 13,
     "metadata": {},
     "output_type": "execute_result"
    }
   ],
   "source": [
    "df_subset['iso3'].isna()"
   ]
  },
  {
   "cell_type": "code",
   "execution_count": 14,
   "id": "092be1d0",
   "metadata": {},
   "outputs": [
    {
     "data": {
      "text/html": [
       "<div>\n",
       "<style scoped>\n",
       "    .dataframe tbody tr th:only-of-type {\n",
       "        vertical-align: middle;\n",
       "    }\n",
       "\n",
       "    .dataframe tbody tr th {\n",
       "        vertical-align: top;\n",
       "    }\n",
       "\n",
       "    .dataframe thead th {\n",
       "        text-align: right;\n",
       "    }\n",
       "</style>\n",
       "<table border=\"1\" class=\"dataframe\">\n",
       "  <thead>\n",
       "    <tr style=\"text-align: right;\">\n",
       "      <th></th>\n",
       "      <th>iso3</th>\n",
       "      <th>country</th>\n",
       "      <th>year</th>\n",
       "      <th>polity2</th>\n",
       "    </tr>\n",
       "  </thead>\n",
       "  <tbody>\n",
       "    <tr>\n",
       "      <th>0</th>\n",
       "      <td>NaN</td>\n",
       "      <td>Wuerttemburg</td>\n",
       "      <td>1800</td>\n",
       "      <td>-7.0</td>\n",
       "    </tr>\n",
       "    <tr>\n",
       "      <th>1</th>\n",
       "      <td>NaN</td>\n",
       "      <td>Korea</td>\n",
       "      <td>1800</td>\n",
       "      <td>1.0</td>\n",
       "    </tr>\n",
       "    <tr>\n",
       "      <th>2</th>\n",
       "      <td>NaN</td>\n",
       "      <td>Bavaria</td>\n",
       "      <td>1800</td>\n",
       "      <td>-10.0</td>\n",
       "    </tr>\n",
       "    <tr>\n",
       "      <th>3</th>\n",
       "      <td>NaN</td>\n",
       "      <td>Korea</td>\n",
       "      <td>1801</td>\n",
       "      <td>1.0</td>\n",
       "    </tr>\n",
       "    <tr>\n",
       "      <th>4</th>\n",
       "      <td>NaN</td>\n",
       "      <td>Wuerttemburg</td>\n",
       "      <td>1801</td>\n",
       "      <td>-7.0</td>\n",
       "    </tr>\n",
       "    <tr>\n",
       "      <th>...</th>\n",
       "      <td>...</td>\n",
       "      <td>...</td>\n",
       "      <td>...</td>\n",
       "      <td>...</td>\n",
       "    </tr>\n",
       "    <tr>\n",
       "      <th>17569</th>\n",
       "      <td>ZWE</td>\n",
       "      <td>Zimbabwe</td>\n",
       "      <td>2014</td>\n",
       "      <td>4.0</td>\n",
       "    </tr>\n",
       "    <tr>\n",
       "      <th>17570</th>\n",
       "      <td>ZWE</td>\n",
       "      <td>Zimbabwe</td>\n",
       "      <td>2015</td>\n",
       "      <td>4.0</td>\n",
       "    </tr>\n",
       "    <tr>\n",
       "      <th>17571</th>\n",
       "      <td>ZWE</td>\n",
       "      <td>Zimbabwe</td>\n",
       "      <td>2016</td>\n",
       "      <td>4.0</td>\n",
       "    </tr>\n",
       "    <tr>\n",
       "      <th>17572</th>\n",
       "      <td>ZWE</td>\n",
       "      <td>Zimbabwe</td>\n",
       "      <td>2017</td>\n",
       "      <td>4.0</td>\n",
       "    </tr>\n",
       "    <tr>\n",
       "      <th>17573</th>\n",
       "      <td>ZWE</td>\n",
       "      <td>Zimbabwe</td>\n",
       "      <td>2018</td>\n",
       "      <td>4.0</td>\n",
       "    </tr>\n",
       "  </tbody>\n",
       "</table>\n",
       "<p>17574 rows × 4 columns</p>\n",
       "</div>"
      ],
      "text/plain": [
       "      iso3       country  year  polity2\n",
       "0      NaN  Wuerttemburg  1800     -7.0\n",
       "1      NaN         Korea  1800      1.0\n",
       "2      NaN       Bavaria  1800    -10.0\n",
       "3      NaN         Korea  1801      1.0\n",
       "4      NaN  Wuerttemburg  1801     -7.0\n",
       "...    ...           ...   ...      ...\n",
       "17569  ZWE      Zimbabwe  2014      4.0\n",
       "17570  ZWE      Zimbabwe  2015      4.0\n",
       "17571  ZWE      Zimbabwe  2016      4.0\n",
       "17572  ZWE      Zimbabwe  2017      4.0\n",
       "17573  ZWE      Zimbabwe  2018      4.0\n",
       "\n",
       "[17574 rows x 4 columns]"
      ]
     },
     "execution_count": 14,
     "metadata": {},
     "output_type": "execute_result"
    }
   ],
   "source": [
    "df_subset"
   ]
  },
  {
   "cell_type": "markdown",
   "id": "8f4b352b-c860-4b2c-bca3-5437c2bbaf23",
   "metadata": {},
   "source": [
    "3b) Display the countries that have missing iso3. What can you tell by looking at them? Any similarities? **(1 point)**"
   ]
  },
  {
   "cell_type": "code",
   "execution_count": 15,
   "id": "b7e9760a-a4a6-4826-b377-49ff300662f0",
   "metadata": {},
   "outputs": [
    {
     "data": {
      "text/plain": [
       "array(['Wuerttemburg', 'Korea', 'Bavaria', 'Saxony', 'Parma', 'Tuscany',\n",
       "       'Sardinia', 'Modena', 'Two Sicilies', 'Baden', 'Gran Colombia',\n",
       "       'United Province CA', 'Serbia', 'Orange Free State', 'Yemen North',\n",
       "       'Czechoslovakia', 'USSR', 'Germany West', 'Germany East',\n",
       "       'Pakistan', 'South Vietnam', 'Yemen South', 'Vietnam',\n",
       "       'Yugoslavia', 'Ethiopia', 'Serbia and Montenegro', 'Montenegro',\n",
       "       'Sudan-North'], dtype=object)"
      ]
     },
     "execution_count": 15,
     "metadata": {},
     "output_type": "execute_result"
    }
   ],
   "source": [
    "# Answer 3b\n",
    "df_subset[(df_subset['iso3'].isna())].country.unique()"
   ]
  },
  {
   "cell_type": "markdown",
   "id": "4a41b9a2-2c70-41c6-b891-95e01f2a74a5",
   "metadata": {},
   "source": [
    "3c) Display the countries with missing iso3 from 2011. **(1 point)**"
   ]
  },
  {
   "cell_type": "code",
   "execution_count": 16,
   "id": "b408fff2-6493-4dff-9294-ef1c564315fb",
   "metadata": {},
   "outputs": [
    {
     "name": "stdout",
     "output_type": "stream",
     "text": [
      "['Montenegro' 'Serbia' 'Ethiopia' 'Sudan-North' 'Vietnam']\n"
     ]
    }
   ],
   "source": [
    "# Answer 3c\n",
    "iso_missing_countries_since_twenty_eleven = df_subset[(df_subset['iso3'].isna()) & (df_subset['year'] >= '2011')]\n",
    "sorted_iso_missing_countries_since_twenty_eleven=(iso_missing_countries_since_twenty_eleven['country'].unique())\n",
    "print(sorted_iso_missing_countries_since_twenty_eleven)"
   ]
  },
  {
   "cell_type": "markdown",
   "id": "0fd9a6b6-2151-4c5e-8a8a-ea9810905642",
   "metadata": {},
   "source": [
    "3d) Display the rows for which the column \"country\" contains the word \"Serbia\". By looking at the result, can you tell what happened to Serbia in 2006? **(1 point)**\n",
    "<br>\n",
    "Hint: the most general way of doing this is to use a combination of re.search and list comprehension. To display the full subset, you can use print(df.to_string())."
   ]
  },
  {
   "cell_type": "code",
   "execution_count": 17,
   "id": "a953ca64-d67b-4c94-8df6-5077efa68814",
   "metadata": {},
   "outputs": [
    {
     "name": "stdout",
     "output_type": "stream",
     "text": [
      "     iso3 country  year  polity2\n",
      "224   NaN  Serbia  1830     -7.0\n",
      "230   NaN  Serbia  1831     -7.0\n",
      "252   NaN  Serbia  1832     -7.0\n",
      "261   NaN  Serbia  1833     -7.0\n",
      "272   NaN  Serbia  1834     -7.0\n",
      "...   ...     ...   ...      ...\n",
      "1248  NaN  Serbia  2014      8.0\n",
      "1254  NaN  Serbia  2015      8.0\n",
      "1263  NaN  Serbia  2016      8.0\n",
      "1269  NaN  Serbia  2017      8.0\n",
      "1276  NaN  Serbia  2018      8.0\n",
      "\n",
      "[104 rows x 4 columns]\n"
     ]
    }
   ],
   "source": [
    "# Answer 3d\n",
    "df_subset_serbia = df_subset[(df_subset['country'] == 'Serbia')]\n",
    "print(df_subset_serbia)"
   ]
  },
  {
   "cell_type": "code",
   "execution_count": 18,
   "id": "9252a7d8",
   "metadata": {},
   "outputs": [
    {
     "name": "stdout",
     "output_type": "stream",
     "text": [
      "     iso3 country  year  polity2\n",
      "224   NaN  Serbia  1830     -7.0\n",
      "230   NaN  Serbia  1831     -7.0\n",
      "252   NaN  Serbia  1832     -7.0\n",
      "261   NaN  Serbia  1833     -7.0\n",
      "272   NaN  Serbia  1834     -7.0\n",
      "286   NaN  Serbia  1835     -7.0\n",
      "295   NaN  Serbia  1836     -7.0\n",
      "301   NaN  Serbia  1837     -7.0\n",
      "318   NaN  Serbia  1838      2.0\n",
      "333   NaN  Serbia  1839      2.0\n",
      "344   NaN  Serbia  1840      2.0\n",
      "357   NaN  Serbia  1841      2.0\n",
      "363   NaN  Serbia  1842      2.0\n",
      "369   NaN  Serbia  1843      2.0\n",
      "387   NaN  Serbia  1844      2.0\n",
      "394   NaN  Serbia  1845      2.0\n",
      "410   NaN  Serbia  1846      2.0\n",
      "420   NaN  Serbia  1847      2.0\n",
      "429   NaN  Serbia  1848      2.0\n",
      "439   NaN  Serbia  1849      2.0\n",
      "450   NaN  Serbia  1850      2.0\n",
      "467   NaN  Serbia  1851      2.0\n",
      "475   NaN  Serbia  1852      2.0\n",
      "482   NaN  Serbia  1853      2.0\n",
      "492   NaN  Serbia  1854      2.0\n",
      "502   NaN  Serbia  1855      2.0\n",
      "523   NaN  Serbia  1856      2.0\n",
      "533   NaN  Serbia  1857      2.0\n",
      "542   NaN  Serbia  1858     -9.0\n",
      "553   NaN  Serbia  1859     -9.0\n",
      "572   NaN  Serbia  1860     -4.0\n",
      "575   NaN  Serbia  1861      0.0\n",
      "583   NaN  Serbia  1862      0.0\n",
      "593   NaN  Serbia  1863      0.0\n",
      "601   NaN  Serbia  1864      0.0\n",
      "608   NaN  Serbia  1865      0.0\n",
      "611   NaN  Serbia  1866      0.0\n",
      "623   NaN  Serbia  1867      0.0\n",
      "628   NaN  Serbia  1868     -3.0\n",
      "637   NaN  Serbia  1869     -5.0\n",
      "642   NaN  Serbia  1870     -5.0\n",
      "651   NaN  Serbia  1871     -5.0\n",
      "652   NaN  Serbia  1872     -5.0\n",
      "657   NaN  Serbia  1873     -5.0\n",
      "660   NaN  Serbia  1874     -5.0\n",
      "663   NaN  Serbia  1875     -5.0\n",
      "665   NaN  Serbia  1876     -5.0\n",
      "669   NaN  Serbia  1877     -5.0\n",
      "671   NaN  Serbia  1878     -5.0\n",
      "673   NaN  Serbia  1879     -5.0\n",
      "676   NaN  Serbia  1880     -5.0\n",
      "680   NaN  Serbia  1881     -5.0\n",
      "684   NaN  Serbia  1882     -5.0\n",
      "686   NaN  Serbia  1883     -5.0\n",
      "690   NaN  Serbia  1884     -5.0\n",
      "693   NaN  Serbia  1885     -5.0\n",
      "694   NaN  Serbia  1886     -5.0\n",
      "697   NaN  Serbia  1887     -5.0\n",
      "700   NaN  Serbia  1888     -5.0\n",
      "704   NaN  Serbia  1889     -5.0\n",
      "708   NaN  Serbia  1890     -5.0\n",
      "709   NaN  Serbia  1891     -5.0\n",
      "714   NaN  Serbia  1892     -5.0\n",
      "715   NaN  Serbia  1893     -5.0\n",
      "718   NaN  Serbia  1894     -5.0\n",
      "722   NaN  Serbia  1895     -5.0\n",
      "724   NaN  Serbia  1896     -5.0\n",
      "729   NaN  Serbia  1897     -5.0\n",
      "730   NaN  Serbia  1898     -5.0\n",
      "733   NaN  Serbia  1899     -5.0\n",
      "737   NaN  Serbia  1900     -5.0\n",
      "739   NaN  Serbia  1901     -5.0\n",
      "743   NaN  Serbia  1902     -5.0\n",
      "745   NaN  Serbia  1903      4.0\n",
      "748   NaN  Serbia  1904      4.0\n",
      "749   NaN  Serbia  1905      4.0\n",
      "751   NaN  Serbia  1906      4.0\n",
      "753   NaN  Serbia  1907      4.0\n",
      "755   NaN  Serbia  1908      4.0\n",
      "758   NaN  Serbia  1909      4.0\n",
      "759   NaN  Serbia  1910      4.0\n",
      "761   NaN  Serbia  1911      4.0\n",
      "762   NaN  Serbia  1912      4.0\n",
      "763   NaN  Serbia  1913      4.0\n",
      "764   NaN  Serbia  1914      4.0\n",
      "765   NaN  Serbia  1915      NaN\n",
      "766   NaN  Serbia  1916      NaN\n",
      "767   NaN  Serbia  1917      4.0\n",
      "769   NaN  Serbia  1918      5.0\n",
      "773   NaN  Serbia  1919      6.0\n",
      "774   NaN  Serbia  1920      7.0\n",
      "1213  NaN  Serbia  2006      8.0\n",
      "1217  NaN  Serbia  2007      8.0\n",
      "1218  NaN  Serbia  2008      8.0\n",
      "1224  NaN  Serbia  2009      8.0\n",
      "1228  NaN  Serbia  2010      8.0\n",
      "1231  NaN  Serbia  2011      8.0\n",
      "1238  NaN  Serbia  2012      8.0\n",
      "1247  NaN  Serbia  2013      8.0\n",
      "1248  NaN  Serbia  2014      8.0\n",
      "1254  NaN  Serbia  2015      8.0\n",
      "1263  NaN  Serbia  2016      8.0\n",
      "1269  NaN  Serbia  2017      8.0\n",
      "1276  NaN  Serbia  2018      8.0\n"
     ]
    }
   ],
   "source": [
    "print(df_subset_serbia.to_string())"
   ]
  },
  {
   "cell_type": "markdown",
   "id": "ebff68b7",
   "metadata": {},
   "source": [
    "In the dataset we see a period of time where we have no data (1920-2006). This is because Serbia was an autonomous kingdom until 1918. From that year until 2006 it has been part of different countries (i.e. Yugoslavia). From 2006 it became independent again."
   ]
  },
  {
   "cell_type": "code",
   "execution_count": 19,
   "id": "84ebca49",
   "metadata": {},
   "outputs": [
    {
     "data": {
      "text/html": [
       "<div>\n",
       "<style scoped>\n",
       "    .dataframe tbody tr th:only-of-type {\n",
       "        vertical-align: middle;\n",
       "    }\n",
       "\n",
       "    .dataframe tbody tr th {\n",
       "        vertical-align: top;\n",
       "    }\n",
       "\n",
       "    .dataframe thead th {\n",
       "        text-align: right;\n",
       "    }\n",
       "</style>\n",
       "<table border=\"1\" class=\"dataframe\">\n",
       "  <thead>\n",
       "    <tr style=\"text-align: right;\">\n",
       "      <th></th>\n",
       "      <th>iso3</th>\n",
       "      <th>country</th>\n",
       "      <th>year</th>\n",
       "      <th>polity2</th>\n",
       "    </tr>\n",
       "  </thead>\n",
       "  <tbody>\n",
       "    <tr>\n",
       "      <th>1213</th>\n",
       "      <td>NaN</td>\n",
       "      <td>Serbia</td>\n",
       "      <td>2006</td>\n",
       "      <td>8.0</td>\n",
       "    </tr>\n",
       "  </tbody>\n",
       "</table>\n",
       "</div>"
      ],
      "text/plain": [
       "     iso3 country  year  polity2\n",
       "1213  NaN  Serbia  2006      8.0"
      ]
     },
     "execution_count": 19,
     "metadata": {},
     "output_type": "execute_result"
    }
   ],
   "source": [
    "df_subset_serbia_twothousandsix = df_subset[(df_subset['country'] == 'Serbia') & (df_subset['year'] == '2006')]\n",
    "df_subset_serbia_twothousandsix"
   ]
  },
  {
   "cell_type": "markdown",
   "id": "850dd97b-0aaa-4bca-affb-22f3c0ca387c",
   "metadata": {},
   "source": [
    "3e) Write a function that does the operation in 4d and use it to display the subset that has the word \"sudan\" (all lower cap) in country. Then do the same for the word \"vietnam\" (all lower cap). **(1 point)**\n",
    "<br>\n",
    "Hint: options of functions can be very useful."
   ]
  },
  {
   "cell_type": "code",
   "execution_count": 20,
   "id": "3217b330-72ef-4d38-8a66-1849d12f7dc2",
   "metadata": {},
   "outputs": [
    {
     "data": {
      "text/html": [
       "<div>\n",
       "<style scoped>\n",
       "    .dataframe tbody tr th:only-of-type {\n",
       "        vertical-align: middle;\n",
       "    }\n",
       "\n",
       "    .dataframe tbody tr th {\n",
       "        vertical-align: top;\n",
       "    }\n",
       "\n",
       "    .dataframe thead th {\n",
       "        text-align: right;\n",
       "    }\n",
       "</style>\n",
       "<table border=\"1\" class=\"dataframe\">\n",
       "  <thead>\n",
       "    <tr style=\"text-align: right;\">\n",
       "      <th></th>\n",
       "      <th>iso3</th>\n",
       "      <th>country</th>\n",
       "      <th>year</th>\n",
       "      <th>polity2</th>\n",
       "    </tr>\n",
       "  </thead>\n",
       "  <tbody>\n",
       "  </tbody>\n",
       "</table>\n",
       "</div>"
      ],
      "text/plain": [
       "Empty DataFrame\n",
       "Columns: [iso3, country, year, polity2]\n",
       "Index: []"
      ]
     },
     "execution_count": 20,
     "metadata": {},
     "output_type": "execute_result"
    }
   ],
   "source": [
    "# Answer 3e\n",
    "df_subset[(df_subset['country'] == 'sudan')]"
   ]
  },
  {
   "cell_type": "code",
   "execution_count": 21,
   "id": "4abec28a",
   "metadata": {},
   "outputs": [
    {
     "data": {
      "text/html": [
       "<div>\n",
       "<style scoped>\n",
       "    .dataframe tbody tr th:only-of-type {\n",
       "        vertical-align: middle;\n",
       "    }\n",
       "\n",
       "    .dataframe tbody tr th {\n",
       "        vertical-align: top;\n",
       "    }\n",
       "\n",
       "    .dataframe thead th {\n",
       "        text-align: right;\n",
       "    }\n",
       "</style>\n",
       "<table border=\"1\" class=\"dataframe\">\n",
       "  <thead>\n",
       "    <tr style=\"text-align: right;\">\n",
       "      <th></th>\n",
       "      <th>iso3</th>\n",
       "      <th>country</th>\n",
       "      <th>year</th>\n",
       "      <th>polity2</th>\n",
       "    </tr>\n",
       "  </thead>\n",
       "  <tbody>\n",
       "  </tbody>\n",
       "</table>\n",
       "</div>"
      ],
      "text/plain": [
       "Empty DataFrame\n",
       "Columns: [iso3, country, year, polity2]\n",
       "Index: []"
      ]
     },
     "execution_count": 21,
     "metadata": {},
     "output_type": "execute_result"
    }
   ],
   "source": [
    "df_subset[(df_subset['country'] == 'vietnam')]"
   ]
  },
  {
   "cell_type": "markdown",
   "id": "348a0adc-6104-4dff-baa4-cbc8259183b4",
   "metadata": {},
   "source": [
    "3f) Replace nan values in iso3 with correct iso3 for the 5 countries found in 3c from 2011 onwards, and display the subset with the fixed values to check that everything worked. **(1 point)**\n",
    "<br>\n",
    "Hint: the correct iso3 for these 5 countries are \"ETH\",\"MNE\",\"SRB\",\"SDN\",\"VNM\"."
   ]
  },
  {
   "cell_type": "code",
   "execution_count": 22,
   "id": "68cf9995",
   "metadata": {
    "scrolled": true
   },
   "outputs": [
    {
     "data": {
      "text/plain": [
       "iso3       1270\n",
       "country       0\n",
       "year          0\n",
       "polity2     263\n",
       "dtype: int64"
      ]
     },
     "execution_count": 22,
     "metadata": {},
     "output_type": "execute_result"
    }
   ],
   "source": [
    "df_subset.isna().sum() "
   ]
  },
  {
   "cell_type": "code",
   "execution_count": 23,
   "id": "be3dfd37",
   "metadata": {},
   "outputs": [
    {
     "name": "stdout",
     "output_type": "stream",
     "text": [
      "     iso3      country  year  polity2\n",
      "224   NaN       Serbia  1830     -7.0\n",
      "230   NaN       Serbia  1831     -7.0\n",
      "252   NaN       Serbia  1832     -7.0\n",
      "261   NaN       Serbia  1833     -7.0\n",
      "272   NaN       Serbia  1834     -7.0\n",
      "286   NaN       Serbia  1835     -7.0\n",
      "295   NaN       Serbia  1836     -7.0\n",
      "301   NaN       Serbia  1837     -7.0\n",
      "318   NaN       Serbia  1838      2.0\n",
      "333   NaN       Serbia  1839      2.0\n",
      "344   NaN       Serbia  1840      2.0\n",
      "357   NaN       Serbia  1841      2.0\n",
      "363   NaN       Serbia  1842      2.0\n",
      "369   NaN       Serbia  1843      2.0\n",
      "387   NaN       Serbia  1844      2.0\n",
      "394   NaN       Serbia  1845      2.0\n",
      "410   NaN       Serbia  1846      2.0\n",
      "420   NaN       Serbia  1847      2.0\n",
      "429   NaN       Serbia  1848      2.0\n",
      "439   NaN       Serbia  1849      2.0\n",
      "450   NaN       Serbia  1850      2.0\n",
      "467   NaN       Serbia  1851      2.0\n",
      "475   NaN       Serbia  1852      2.0\n",
      "482   NaN       Serbia  1853      2.0\n",
      "492   NaN       Serbia  1854      2.0\n",
      "502   NaN       Serbia  1855      2.0\n",
      "523   NaN       Serbia  1856      2.0\n",
      "533   NaN       Serbia  1857      2.0\n",
      "542   NaN       Serbia  1858     -9.0\n",
      "553   NaN       Serbia  1859     -9.0\n",
      "572   NaN       Serbia  1860     -4.0\n",
      "575   NaN       Serbia  1861      0.0\n",
      "583   NaN       Serbia  1862      0.0\n",
      "593   NaN       Serbia  1863      0.0\n",
      "601   NaN       Serbia  1864      0.0\n",
      "608   NaN       Serbia  1865      0.0\n",
      "611   NaN       Serbia  1866      0.0\n",
      "623   NaN       Serbia  1867      0.0\n",
      "628   NaN       Serbia  1868     -3.0\n",
      "637   NaN       Serbia  1869     -5.0\n",
      "642   NaN       Serbia  1870     -5.0\n",
      "651   NaN       Serbia  1871     -5.0\n",
      "652   NaN       Serbia  1872     -5.0\n",
      "657   NaN       Serbia  1873     -5.0\n",
      "660   NaN       Serbia  1874     -5.0\n",
      "663   NaN       Serbia  1875     -5.0\n",
      "665   NaN       Serbia  1876     -5.0\n",
      "669   NaN       Serbia  1877     -5.0\n",
      "671   NaN       Serbia  1878     -5.0\n",
      "673   NaN       Serbia  1879     -5.0\n",
      "676   NaN       Serbia  1880     -5.0\n",
      "680   NaN       Serbia  1881     -5.0\n",
      "684   NaN       Serbia  1882     -5.0\n",
      "686   NaN       Serbia  1883     -5.0\n",
      "690   NaN       Serbia  1884     -5.0\n",
      "693   NaN       Serbia  1885     -5.0\n",
      "694   NaN       Serbia  1886     -5.0\n",
      "697   NaN       Serbia  1887     -5.0\n",
      "700   NaN       Serbia  1888     -5.0\n",
      "704   NaN       Serbia  1889     -5.0\n",
      "708   NaN       Serbia  1890     -5.0\n",
      "709   NaN       Serbia  1891     -5.0\n",
      "714   NaN       Serbia  1892     -5.0\n",
      "715   NaN       Serbia  1893     -5.0\n",
      "718   NaN       Serbia  1894     -5.0\n",
      "722   NaN       Serbia  1895     -5.0\n",
      "724   NaN       Serbia  1896     -5.0\n",
      "729   NaN       Serbia  1897     -5.0\n",
      "730   NaN       Serbia  1898     -5.0\n",
      "733   NaN       Serbia  1899     -5.0\n",
      "737   NaN       Serbia  1900     -5.0\n",
      "739   NaN       Serbia  1901     -5.0\n",
      "743   NaN       Serbia  1902     -5.0\n",
      "745   NaN       Serbia  1903      4.0\n",
      "748   NaN       Serbia  1904      4.0\n",
      "749   NaN       Serbia  1905      4.0\n",
      "751   NaN       Serbia  1906      4.0\n",
      "753   NaN       Serbia  1907      4.0\n",
      "755   NaN       Serbia  1908      4.0\n",
      "758   NaN       Serbia  1909      4.0\n",
      "759   NaN       Serbia  1910      4.0\n",
      "761   NaN       Serbia  1911      4.0\n",
      "762   NaN       Serbia  1912      4.0\n",
      "763   NaN       Serbia  1913      4.0\n",
      "764   NaN       Serbia  1914      4.0\n",
      "765   NaN       Serbia  1915      NaN\n",
      "766   NaN       Serbia  1916      NaN\n",
      "767   NaN       Serbia  1917      4.0\n",
      "769   NaN       Serbia  1918      5.0\n",
      "773   NaN       Serbia  1919      6.0\n",
      "774   NaN       Serbia  1920      7.0\n",
      "1058  NaN      Vietnam  1976     -7.0\n",
      "1071  NaN      Vietnam  1977     -7.0\n",
      "1075  NaN      Vietnam  1978     -7.0\n",
      "1081  NaN      Vietnam  1979     -7.0\n",
      "1092  NaN      Vietnam  1980     -7.0\n",
      "1096  NaN      Vietnam  1981     -7.0\n",
      "1105  NaN      Vietnam  1982     -7.0\n",
      "1113  NaN      Vietnam  1983     -7.0\n",
      "1115  NaN      Vietnam  1984     -7.0\n",
      "1125  NaN      Vietnam  1985     -7.0\n",
      "1130  NaN      Vietnam  1986     -7.0\n",
      "1137  NaN      Vietnam  1987     -7.0\n",
      "1145  NaN      Vietnam  1988     -7.0\n",
      "1151  NaN      Vietnam  1989     -7.0\n",
      "1162  NaN      Vietnam  1990     -7.0\n",
      "1164  NaN      Vietnam  1991     -7.0\n",
      "1167  NaN      Vietnam  1992     -7.0\n",
      "1170  NaN     Ethiopia  1993      1.0\n",
      "1171  NaN      Vietnam  1993     -7.0\n",
      "1174  NaN     Ethiopia  1994      1.0\n",
      "1175  NaN      Vietnam  1994     -7.0\n",
      "1176  NaN      Vietnam  1995     -7.0\n",
      "1177  NaN     Ethiopia  1995      1.0\n",
      "1179  NaN     Ethiopia  1996      1.0\n",
      "1180  NaN      Vietnam  1996     -7.0\n",
      "1182  NaN      Vietnam  1997     -7.0\n",
      "1184  NaN     Ethiopia  1997      1.0\n",
      "1185  NaN      Vietnam  1998     -7.0\n",
      "1186  NaN     Ethiopia  1998      1.0\n",
      "1189  NaN     Ethiopia  1999      1.0\n",
      "1190  NaN      Vietnam  1999     -7.0\n",
      "1191  NaN      Vietnam  2000     -7.0\n",
      "1192  NaN     Ethiopia  2000      1.0\n",
      "1194  NaN      Vietnam  2001     -7.0\n",
      "1195  NaN     Ethiopia  2001      1.0\n",
      "1198  NaN      Vietnam  2002     -7.0\n",
      "1199  NaN     Ethiopia  2002      1.0\n",
      "1200  NaN     Ethiopia  2003      1.0\n",
      "1202  NaN      Vietnam  2003     -7.0\n",
      "1203  NaN      Vietnam  2004     -7.0\n",
      "1204  NaN     Ethiopia  2004      1.0\n",
      "1206  NaN      Vietnam  2005     -7.0\n",
      "1208  NaN     Ethiopia  2005     -3.0\n",
      "1209  NaN   Montenegro  2006      9.0\n",
      "1210  NaN      Vietnam  2006     -7.0\n",
      "1211  NaN     Ethiopia  2006     -3.0\n",
      "1213  NaN       Serbia  2006      8.0\n",
      "1214  NaN     Ethiopia  2007     -3.0\n",
      "1215  NaN      Vietnam  2007     -7.0\n",
      "1216  NaN   Montenegro  2007      9.0\n",
      "1217  NaN       Serbia  2007      8.0\n",
      "1218  NaN       Serbia  2008      8.0\n",
      "1219  NaN      Vietnam  2008     -7.0\n",
      "1220  NaN   Montenegro  2008      9.0\n",
      "1221  NaN     Ethiopia  2008     -3.0\n",
      "1222  NaN      Vietnam  2009     -7.0\n",
      "1223  NaN   Montenegro  2009      9.0\n",
      "1224  NaN       Serbia  2009      8.0\n",
      "1225  NaN     Ethiopia  2009     -3.0\n",
      "1226  NaN      Vietnam  2010     -7.0\n",
      "1227  NaN   Montenegro  2010      9.0\n",
      "1228  NaN       Serbia  2010      8.0\n",
      "1229  NaN     Ethiopia  2010     -3.0\n",
      "1230  MNE   Montenegro  2011      9.0\n",
      "1231  SRB       Serbia  2011      8.0\n",
      "1233  ETH     Ethiopia  2011     -3.0\n",
      "1234  SDN  Sudan-North  2011     -4.0\n",
      "1235  VNM      Vietnam  2011     -7.0\n",
      "1236  MNE   Montenegro  2012      9.0\n",
      "1238  SRB       Serbia  2012      8.0\n",
      "1239  ETH     Ethiopia  2012     -3.0\n",
      "1240  VNM      Vietnam  2012     -7.0\n",
      "1241  SDN  Sudan-North  2012     -4.0\n",
      "1242  VNM      Vietnam  2013     -7.0\n",
      "1243  MNE   Montenegro  2013      9.0\n",
      "1244  SDN  Sudan-North  2013     -4.0\n",
      "1245  ETH     Ethiopia  2013     -3.0\n",
      "1247  SRB       Serbia  2013      8.0\n",
      "1248  SRB       Serbia  2014      8.0\n",
      "1249  ETH     Ethiopia  2014     -3.0\n",
      "1251  MNE   Montenegro  2014      9.0\n",
      "1252  SDN  Sudan-North  2014     -4.0\n",
      "1253  VNM      Vietnam  2014     -7.0\n",
      "1254  SRB       Serbia  2015      8.0\n",
      "1255  ETH     Ethiopia  2015     -3.0\n",
      "1256  SDN  Sudan-North  2015     -4.0\n",
      "1258  VNM      Vietnam  2015     -7.0\n",
      "1259  MNE   Montenegro  2015      9.0\n",
      "1260  MNE   Montenegro  2016      9.0\n",
      "1262  SDN  Sudan-North  2016     -4.0\n",
      "1263  SRB       Serbia  2016      8.0\n",
      "1264  VNM      Vietnam  2016     -7.0\n",
      "1265  ETH     Ethiopia  2016     -3.0\n",
      "1266  VNM      Vietnam  2017     -7.0\n",
      "1268  ETH     Ethiopia  2017     -3.0\n",
      "1269  SRB       Serbia  2017      8.0\n",
      "1270  SDN  Sudan-North  2017     -4.0\n",
      "1271  MNE   Montenegro  2017      9.0\n",
      "1272  MNE   Montenegro  2018      9.0\n",
      "1273  SDN  Sudan-North  2018     -4.0\n",
      "1274  VNM      Vietnam  2018     -7.0\n",
      "1275  ETH     Ethiopia  2018      1.0\n",
      "1276  SRB       Serbia  2018      8.0\n",
      "6431  ETH     Ethiopia  1855      4.0\n",
      "6432  ETH     Ethiopia  1856      4.0\n",
      "6433  ETH     Ethiopia  1857      4.0\n",
      "6434  ETH     Ethiopia  1858      4.0\n",
      "6435  ETH     Ethiopia  1859      4.0\n",
      "6436  ETH     Ethiopia  1860      4.0\n",
      "6437  ETH     Ethiopia  1861      4.0\n",
      "6438  ETH     Ethiopia  1862      4.0\n",
      "6439  ETH     Ethiopia  1863      4.0\n",
      "6440  ETH     Ethiopia  1864      4.0\n",
      "6441  ETH     Ethiopia  1865      4.0\n",
      "6442  ETH     Ethiopia  1866      4.0\n",
      "6443  ETH     Ethiopia  1867      4.0\n",
      "6444  ETH     Ethiopia  1868      4.0\n",
      "6445  ETH     Ethiopia  1869      4.0\n",
      "6446  ETH     Ethiopia  1870      4.0\n",
      "6447  ETH     Ethiopia  1871      4.0\n",
      "6448  ETH     Ethiopia  1872      4.0\n",
      "6449  ETH     Ethiopia  1873      4.0\n",
      "6450  ETH     Ethiopia  1874      4.0\n",
      "6451  ETH     Ethiopia  1875      4.0\n",
      "6452  ETH     Ethiopia  1876      4.0\n",
      "6453  ETH     Ethiopia  1877      4.0\n",
      "6454  ETH     Ethiopia  1878      4.0\n",
      "6455  ETH     Ethiopia  1879      4.0\n",
      "6456  ETH     Ethiopia  1880      4.0\n",
      "6457  ETH     Ethiopia  1881      4.0\n",
      "6458  ETH     Ethiopia  1882      4.0\n",
      "6459  ETH     Ethiopia  1883      4.0\n",
      "6460  ETH     Ethiopia  1884      4.0\n",
      "6461  ETH     Ethiopia  1885      4.0\n",
      "6462  ETH     Ethiopia  1886      4.0\n",
      "6463  ETH     Ethiopia  1887      4.0\n",
      "6464  ETH     Ethiopia  1888      4.0\n",
      "6465  ETH     Ethiopia  1889      4.0\n",
      "6466  ETH     Ethiopia  1890      4.0\n",
      "6467  ETH     Ethiopia  1891      4.0\n",
      "6468  ETH     Ethiopia  1892      4.0\n",
      "6469  ETH     Ethiopia  1893      4.0\n",
      "6470  ETH     Ethiopia  1894      4.0\n",
      "6471  ETH     Ethiopia  1895      4.0\n",
      "6472  ETH     Ethiopia  1896      4.0\n",
      "6473  ETH     Ethiopia  1897      4.0\n",
      "6474  ETH     Ethiopia  1898      4.0\n",
      "6475  ETH     Ethiopia  1899      4.0\n",
      "6476  ETH     Ethiopia  1900      4.0\n",
      "6477  ETH     Ethiopia  1901      4.0\n",
      "6478  ETH     Ethiopia  1902      4.0\n",
      "6479  ETH     Ethiopia  1903      4.0\n",
      "6480  ETH     Ethiopia  1904      4.0\n",
      "6481  ETH     Ethiopia  1905      4.0\n",
      "6482  ETH     Ethiopia  1906      4.0\n",
      "6483  ETH     Ethiopia  1907      4.0\n",
      "6484  ETH     Ethiopia  1908      4.0\n",
      "6485  ETH     Ethiopia  1909      4.0\n",
      "6486  ETH     Ethiopia  1910      4.0\n",
      "6487  ETH     Ethiopia  1911      4.0\n",
      "6488  ETH     Ethiopia  1912      4.0\n",
      "6489  ETH     Ethiopia  1913      4.0\n",
      "6490  ETH     Ethiopia  1914      4.0\n",
      "6491  ETH     Ethiopia  1915      4.0\n",
      "6492  ETH     Ethiopia  1916      4.0\n",
      "6493  ETH     Ethiopia  1917      4.0\n",
      "6494  ETH     Ethiopia  1918      4.0\n",
      "6495  ETH     Ethiopia  1919      4.0\n",
      "6496  ETH     Ethiopia  1920      4.0\n",
      "6497  ETH     Ethiopia  1921      4.0\n",
      "6498  ETH     Ethiopia  1922      4.0\n",
      "6499  ETH     Ethiopia  1923      4.0\n",
      "6500  ETH     Ethiopia  1924      4.0\n",
      "6501  ETH     Ethiopia  1925      4.0\n",
      "6502  ETH     Ethiopia  1926      4.0\n",
      "6503  ETH     Ethiopia  1927      4.0\n",
      "6504  ETH     Ethiopia  1928      4.0\n",
      "6505  ETH     Ethiopia  1929      4.0\n",
      "6506  ETH     Ethiopia  1930     -5.0\n",
      "6507  ETH     Ethiopia  1931     -5.0\n",
      "6508  ETH     Ethiopia  1932     -5.0\n",
      "6509  ETH     Ethiopia  1933     -5.0\n",
      "6510  ETH     Ethiopia  1934     -5.0\n",
      "6511  ETH     Ethiopia  1935     -5.0\n",
      "6512  ETH     Ethiopia  1936      NaN\n",
      "6513  ETH     Ethiopia  1937      NaN\n",
      "6514  ETH     Ethiopia  1938      NaN\n",
      "6515  ETH     Ethiopia  1939      NaN\n",
      "6516  ETH     Ethiopia  1940      NaN\n",
      "6517  ETH     Ethiopia  1941      NaN\n",
      "6518  ETH     Ethiopia  1942     -5.0\n",
      "6519  ETH     Ethiopia  1943     -5.0\n",
      "6520  ETH     Ethiopia  1944     -5.0\n",
      "6521  ETH     Ethiopia  1945     -5.0\n",
      "6522  ETH     Ethiopia  1946     -9.0\n",
      "6523  ETH     Ethiopia  1947     -9.0\n",
      "6524  ETH     Ethiopia  1948     -9.0\n",
      "6525  ETH     Ethiopia  1949     -9.0\n",
      "6526  ETH     Ethiopia  1950     -9.0\n",
      "6527  ETH     Ethiopia  1951     -9.0\n",
      "6528  ETH     Ethiopia  1952     -9.0\n",
      "6529  ETH     Ethiopia  1953     -9.0\n",
      "6530  ETH     Ethiopia  1954     -9.0\n",
      "6531  ETH     Ethiopia  1955     -9.0\n",
      "6532  ETH     Ethiopia  1956     -9.0\n",
      "6533  ETH     Ethiopia  1957     -9.0\n",
      "6534  ETH     Ethiopia  1958     -9.0\n",
      "6535  ETH     Ethiopia  1959     -9.0\n",
      "6536  ETH     Ethiopia  1960     -9.0\n",
      "6537  ETH     Ethiopia  1961     -9.0\n",
      "6538  ETH     Ethiopia  1962     -9.0\n",
      "6539  ETH     Ethiopia  1963     -9.0\n",
      "6540  ETH     Ethiopia  1964     -9.0\n",
      "6541  ETH     Ethiopia  1965     -9.0\n",
      "6542  ETH     Ethiopia  1966     -9.0\n",
      "6543  ETH     Ethiopia  1967     -9.0\n",
      "6544  ETH     Ethiopia  1968     -9.0\n",
      "6545  ETH     Ethiopia  1969     -9.0\n",
      "6546  ETH     Ethiopia  1970     -9.0\n",
      "6547  ETH     Ethiopia  1971     -9.0\n",
      "6548  ETH     Ethiopia  1972     -9.0\n",
      "6549  ETH     Ethiopia  1973     -9.0\n",
      "6550  ETH     Ethiopia  1974      0.0\n",
      "6551  ETH     Ethiopia  1975     -7.0\n",
      "6552  ETH     Ethiopia  1976     -7.0\n",
      "6553  ETH     Ethiopia  1977     -7.0\n",
      "6554  ETH     Ethiopia  1978     -7.0\n",
      "6555  ETH     Ethiopia  1979     -7.0\n",
      "6556  ETH     Ethiopia  1980     -7.0\n",
      "6557  ETH     Ethiopia  1981     -7.0\n",
      "6558  ETH     Ethiopia  1982     -7.0\n",
      "6559  ETH     Ethiopia  1983     -7.0\n",
      "6560  ETH     Ethiopia  1984     -8.0\n",
      "6561  ETH     Ethiopia  1985     -8.0\n",
      "6562  ETH     Ethiopia  1986     -8.0\n",
      "6563  ETH     Ethiopia  1987     -8.0\n",
      "6564  ETH     Ethiopia  1988     -8.0\n",
      "6565  ETH     Ethiopia  1989     -8.0\n",
      "6566  ETH     Ethiopia  1990     -8.0\n",
      "6567  ETH     Ethiopia  1991      0.0\n",
      "6568  ETH     Ethiopia  1992      0.0\n",
      "6569  ETH     Ethiopia  1993      0.0\n"
     ]
    }
   ],
   "source": [
    "new_iso3 = df_subset.copy()\n",
    "\n",
    "countries = ['Montenegro', 'Serbia', 'Ethiopia', 'Sudan-North', 'Vietnam']\n",
    "iso3_real_codes = ['MNE', 'SRB', 'ETH', 'SDN', 'VNM']\n",
    "\n",
    "replacement = {'iso3': np.nan}\n",
    "\n",
    "for country_index, iso3 in zip(countries, iso3_real_codes):\n",
    "\n",
    "    new_iso3[(new_iso3['country']== country_index) & \\\n",
    "            (new_iso3['year'].astype(int) >=2011)] = \\\n",
    "    new_iso3[(new_iso3['country'] == country_index) & \\\n",
    "            (new_iso3['year'].astype(int) >=2011)].\\\n",
    "    replace(to_replace = replacement, value = iso3)\n",
    "    \n",
    "print(new_iso3[(new_iso3['country'] == 'Montenegro') |\n",
    "              (new_iso3['country'] == 'Serbia') |\n",
    "              (new_iso3['country'] == 'Ethiopia') |\n",
    "              (new_iso3['country'] == 'Sudan-North') |\n",
    "              (new_iso3['country'] == 'Vietnam')].to_string())\n",
    "            "
   ]
  },
  {
   "cell_type": "markdown",
   "id": "c6fa210c-b46f-46ff-a8da-d72d95bff196",
   "metadata": {},
   "source": [
    "3g) Drop the remaining rows which have nan in \"iso3\" and display the new number of rows of the dataframe (how many are they?) **(1 point)**"
   ]
  },
  {
   "cell_type": "code",
   "execution_count": 24,
   "id": "2c2cea78-0af1-405f-aeed-41dfc8fee4e4",
   "metadata": {},
   "outputs": [
    {
     "data": {
      "text/html": [
       "<div>\n",
       "<style scoped>\n",
       "    .dataframe tbody tr th:only-of-type {\n",
       "        vertical-align: middle;\n",
       "    }\n",
       "\n",
       "    .dataframe tbody tr th {\n",
       "        vertical-align: top;\n",
       "    }\n",
       "\n",
       "    .dataframe thead th {\n",
       "        text-align: right;\n",
       "    }\n",
       "</style>\n",
       "<table border=\"1\" class=\"dataframe\">\n",
       "  <thead>\n",
       "    <tr style=\"text-align: right;\">\n",
       "      <th></th>\n",
       "      <th>iso3</th>\n",
       "      <th>country</th>\n",
       "      <th>year</th>\n",
       "      <th>polity2</th>\n",
       "    </tr>\n",
       "  </thead>\n",
       "  <tbody>\n",
       "    <tr>\n",
       "      <th>1230</th>\n",
       "      <td>MNE</td>\n",
       "      <td>Montenegro</td>\n",
       "      <td>2011</td>\n",
       "      <td>9.0</td>\n",
       "    </tr>\n",
       "    <tr>\n",
       "      <th>1231</th>\n",
       "      <td>SRB</td>\n",
       "      <td>Serbia</td>\n",
       "      <td>2011</td>\n",
       "      <td>8.0</td>\n",
       "    </tr>\n",
       "    <tr>\n",
       "      <th>1232</th>\n",
       "      <td>SSD</td>\n",
       "      <td>South Sudan</td>\n",
       "      <td>2011</td>\n",
       "      <td>0.0</td>\n",
       "    </tr>\n",
       "    <tr>\n",
       "      <th>1233</th>\n",
       "      <td>ETH</td>\n",
       "      <td>Ethiopia</td>\n",
       "      <td>2011</td>\n",
       "      <td>-3.0</td>\n",
       "    </tr>\n",
       "    <tr>\n",
       "      <th>1234</th>\n",
       "      <td>SDN</td>\n",
       "      <td>Sudan-North</td>\n",
       "      <td>2011</td>\n",
       "      <td>-4.0</td>\n",
       "    </tr>\n",
       "    <tr>\n",
       "      <th>...</th>\n",
       "      <td>...</td>\n",
       "      <td>...</td>\n",
       "      <td>...</td>\n",
       "      <td>...</td>\n",
       "    </tr>\n",
       "    <tr>\n",
       "      <th>17569</th>\n",
       "      <td>ZWE</td>\n",
       "      <td>Zimbabwe</td>\n",
       "      <td>2014</td>\n",
       "      <td>4.0</td>\n",
       "    </tr>\n",
       "    <tr>\n",
       "      <th>17570</th>\n",
       "      <td>ZWE</td>\n",
       "      <td>Zimbabwe</td>\n",
       "      <td>2015</td>\n",
       "      <td>4.0</td>\n",
       "    </tr>\n",
       "    <tr>\n",
       "      <th>17571</th>\n",
       "      <td>ZWE</td>\n",
       "      <td>Zimbabwe</td>\n",
       "      <td>2016</td>\n",
       "      <td>4.0</td>\n",
       "    </tr>\n",
       "    <tr>\n",
       "      <th>17572</th>\n",
       "      <td>ZWE</td>\n",
       "      <td>Zimbabwe</td>\n",
       "      <td>2017</td>\n",
       "      <td>4.0</td>\n",
       "    </tr>\n",
       "    <tr>\n",
       "      <th>17573</th>\n",
       "      <td>ZWE</td>\n",
       "      <td>Zimbabwe</td>\n",
       "      <td>2018</td>\n",
       "      <td>4.0</td>\n",
       "    </tr>\n",
       "  </tbody>\n",
       "</table>\n",
       "<p>16344 rows × 4 columns</p>\n",
       "</div>"
      ],
      "text/plain": [
       "      iso3      country  year  polity2\n",
       "1230   MNE   Montenegro  2011      9.0\n",
       "1231   SRB       Serbia  2011      8.0\n",
       "1232   SSD  South Sudan  2011      0.0\n",
       "1233   ETH     Ethiopia  2011     -3.0\n",
       "1234   SDN  Sudan-North  2011     -4.0\n",
       "...    ...          ...   ...      ...\n",
       "17569  ZWE     Zimbabwe  2014      4.0\n",
       "17570  ZWE     Zimbabwe  2015      4.0\n",
       "17571  ZWE     Zimbabwe  2016      4.0\n",
       "17572  ZWE     Zimbabwe  2017      4.0\n",
       "17573  ZWE     Zimbabwe  2018      4.0\n",
       "\n",
       "[16344 rows x 4 columns]"
      ]
     },
     "execution_count": 24,
     "metadata": {},
     "output_type": "execute_result"
    }
   ],
   "source": [
    "# Answer 3g\n",
    "new_iso3_drop = new_iso3.dropna(subset=['iso3'])\n",
    "new_iso3_drop"
   ]
  },
  {
   "cell_type": "code",
   "execution_count": 25,
   "id": "37251d9a",
   "metadata": {},
   "outputs": [
    {
     "data": {
      "text/plain": [
       "16344"
      ]
     },
     "execution_count": 25,
     "metadata": {},
     "output_type": "execute_result"
    }
   ],
   "source": [
    "len(new_iso3_drop)"
   ]
  },
  {
   "cell_type": "markdown",
   "id": "313dc318-2264-4e42-8ca3-f1cf5b85fac5",
   "metadata": {},
   "source": [
    "### Question 4: Check Polity2 <a class=\"anchor\" id=\"question4\"></a>"
   ]
  },
  {
   "cell_type": "markdown",
   "id": "cb41d643-6867-4c1c-93f9-c3c38fb9d454",
   "metadata": {},
   "source": [
    "4a) Display the first and last year included in the dataset **(1 point)**"
   ]
  },
  {
   "cell_type": "code",
   "execution_count": 26,
   "id": "57202c70-fe45-4f45-a29b-6a4761421972",
   "metadata": {},
   "outputs": [
    {
     "name": "stdout",
     "output_type": "stream",
     "text": [
      "1800\n",
      "2018\n"
     ]
    }
   ],
   "source": [
    "# Answer 4a\n",
    "print(df_subset.iloc[0]['year'])\n",
    "print(df_subset.iloc[-1]['year'])"
   ]
  },
  {
   "cell_type": "markdown",
   "id": "b4593d98-be9b-45b3-86df-82e613ee851b",
   "metadata": {},
   "source": [
    "4b) What do the values in \"polity2\" represent? **(1 point)**"
   ]
  },
  {
   "cell_type": "markdown",
   "id": "8b1c4ecc-c2e6-4150-bf91-86bc067fd4a7",
   "metadata": {},
   "source": [
    "Answer 4b: \n",
    "Polity2 classifies the regime under which a country is subject to. It ranges from 10 (full democracy) to -10 (full autocracy)."
   ]
  },
  {
   "cell_type": "code",
   "execution_count": 27,
   "id": "7ec6906c",
   "metadata": {},
   "outputs": [
    {
     "data": {
      "text/plain": [
       "1230     9.0\n",
       "1231     8.0\n",
       "1232     0.0\n",
       "1233    -3.0\n",
       "1234    -4.0\n",
       "        ... \n",
       "17569    4.0\n",
       "17570    4.0\n",
       "17571    4.0\n",
       "17572    4.0\n",
       "17573    4.0\n",
       "Name: polity2, Length: 16344, dtype: float64"
      ]
     },
     "execution_count": 27,
     "metadata": {},
     "output_type": "execute_result"
    }
   ],
   "source": [
    "new_iso3_drop['polity2']"
   ]
  },
  {
   "cell_type": "markdown",
   "id": "523a9072-8271-4336-9219-3c64a3f16e07",
   "metadata": {},
   "source": [
    "4c) Do we have weird values for polity2? If yes, why? What should we do about them? Transform the data accordingly. **(1 point)**"
   ]
  },
  {
   "cell_type": "markdown",
   "id": "5e710121-c355-4f34-8f81-187ccee789b7",
   "metadata": {},
   "source": [
    "Answer 4c: Yes, we have weird values. The variable should only display values between 10 and -10, but it is actually showing some 'nan' values, -88 and -66."
   ]
  },
  {
   "cell_type": "code",
   "execution_count": 30,
   "id": "ef40f8d3-e7bd-49b9-9faa-a76931d0f5f1",
   "metadata": {},
   "outputs": [
    {
     "data": {
      "text/plain": [
       "array([  9.,   8.,   0.,  -3.,  -4.,  -7.,   1.,  -6.,  -8., -10.,  nan,\n",
       "        -1.,  -2.,  -9.,  -5.,   3.,   5.,   7.,   2.,   6.,  10.,   4.,\n",
       "       -88., -66.])"
      ]
     },
     "execution_count": 30,
     "metadata": {},
     "output_type": "execute_result"
    }
   ],
   "source": [
    "# Answer 4c\n",
    "new_iso3_drop['polity2'].unique()"
   ]
  },
  {
   "cell_type": "code",
   "execution_count": 29,
   "id": "22ca8c03",
   "metadata": {},
   "outputs": [
    {
     "name": "stderr",
     "output_type": "stream",
     "text": [
      "C:\\Users\\paula\\AppData\\Local\\Temp\\ipykernel_18068\\3279178985.py:1: UserWarning: Boolean Series key will be reindexed to match DataFrame index.\n",
      "  new_iso3_drop_clean = df_subset[(new_iso3_drop['polity2'] >= -10) & (new_iso3_drop['polity2'] <= 10)]\n"
     ]
    },
    {
     "ename": "IndexingError",
     "evalue": "Unalignable boolean Series provided as indexer (index of the boolean Series and of the indexed object do not match).",
     "output_type": "error",
     "traceback": [
      "\u001b[1;31m---------------------------------------------------------------------------\u001b[0m",
      "\u001b[1;31mIndexingError\u001b[0m                             Traceback (most recent call last)",
      "\u001b[1;32m~\\AppData\\Local\\Temp\\ipykernel_18068\\3279178985.py\u001b[0m in \u001b[0;36m<module>\u001b[1;34m\u001b[0m\n\u001b[1;32m----> 1\u001b[1;33m \u001b[0mnew_iso3_drop_clean\u001b[0m \u001b[1;33m=\u001b[0m \u001b[0mdf_subset\u001b[0m\u001b[1;33m[\u001b[0m\u001b[1;33m(\u001b[0m\u001b[0mnew_iso3_drop\u001b[0m\u001b[1;33m[\u001b[0m\u001b[1;34m'polity2'\u001b[0m\u001b[1;33m]\u001b[0m \u001b[1;33m>=\u001b[0m \u001b[1;33m-\u001b[0m\u001b[1;36m10\u001b[0m\u001b[1;33m)\u001b[0m \u001b[1;33m&\u001b[0m \u001b[1;33m(\u001b[0m\u001b[0mnew_iso3_drop\u001b[0m\u001b[1;33m[\u001b[0m\u001b[1;34m'polity2'\u001b[0m\u001b[1;33m]\u001b[0m \u001b[1;33m<=\u001b[0m \u001b[1;36m10\u001b[0m\u001b[1;33m)\u001b[0m\u001b[1;33m]\u001b[0m\u001b[1;33m\u001b[0m\u001b[1;33m\u001b[0m\u001b[0m\n\u001b[0m",
      "\u001b[1;32m~\\anaconda3\\lib\\site-packages\\pandas\\core\\frame.py\u001b[0m in \u001b[0;36m__getitem__\u001b[1;34m(self, key)\u001b[0m\n\u001b[0;32m   3494\u001b[0m         \u001b[1;31m# Do we have a (boolean) 1d indexer?\u001b[0m\u001b[1;33m\u001b[0m\u001b[1;33m\u001b[0m\u001b[0m\n\u001b[0;32m   3495\u001b[0m         \u001b[1;32mif\u001b[0m \u001b[0mcom\u001b[0m\u001b[1;33m.\u001b[0m\u001b[0mis_bool_indexer\u001b[0m\u001b[1;33m(\u001b[0m\u001b[0mkey\u001b[0m\u001b[1;33m)\u001b[0m\u001b[1;33m:\u001b[0m\u001b[1;33m\u001b[0m\u001b[1;33m\u001b[0m\u001b[0m\n\u001b[1;32m-> 3496\u001b[1;33m             \u001b[1;32mreturn\u001b[0m \u001b[0mself\u001b[0m\u001b[1;33m.\u001b[0m\u001b[0m_getitem_bool_array\u001b[0m\u001b[1;33m(\u001b[0m\u001b[0mkey\u001b[0m\u001b[1;33m)\u001b[0m\u001b[1;33m\u001b[0m\u001b[1;33m\u001b[0m\u001b[0m\n\u001b[0m\u001b[0;32m   3497\u001b[0m \u001b[1;33m\u001b[0m\u001b[0m\n\u001b[0;32m   3498\u001b[0m         \u001b[1;31m# We are left with two options: a single key, and a collection of keys,\u001b[0m\u001b[1;33m\u001b[0m\u001b[1;33m\u001b[0m\u001b[0m\n",
      "\u001b[1;32m~\\anaconda3\\lib\\site-packages\\pandas\\core\\frame.py\u001b[0m in \u001b[0;36m_getitem_bool_array\u001b[1;34m(self, key)\u001b[0m\n\u001b[0;32m   3547\u001b[0m         \u001b[1;31m# check_bool_indexer will throw exception if Series key cannot\u001b[0m\u001b[1;33m\u001b[0m\u001b[1;33m\u001b[0m\u001b[0m\n\u001b[0;32m   3548\u001b[0m         \u001b[1;31m# be reindexed to match DataFrame rows\u001b[0m\u001b[1;33m\u001b[0m\u001b[1;33m\u001b[0m\u001b[0m\n\u001b[1;32m-> 3549\u001b[1;33m         \u001b[0mkey\u001b[0m \u001b[1;33m=\u001b[0m \u001b[0mcheck_bool_indexer\u001b[0m\u001b[1;33m(\u001b[0m\u001b[0mself\u001b[0m\u001b[1;33m.\u001b[0m\u001b[0mindex\u001b[0m\u001b[1;33m,\u001b[0m \u001b[0mkey\u001b[0m\u001b[1;33m)\u001b[0m\u001b[1;33m\u001b[0m\u001b[1;33m\u001b[0m\u001b[0m\n\u001b[0m\u001b[0;32m   3550\u001b[0m         \u001b[0mindexer\u001b[0m \u001b[1;33m=\u001b[0m \u001b[0mkey\u001b[0m\u001b[1;33m.\u001b[0m\u001b[0mnonzero\u001b[0m\u001b[1;33m(\u001b[0m\u001b[1;33m)\u001b[0m\u001b[1;33m[\u001b[0m\u001b[1;36m0\u001b[0m\u001b[1;33m]\u001b[0m\u001b[1;33m\u001b[0m\u001b[1;33m\u001b[0m\u001b[0m\n\u001b[0;32m   3551\u001b[0m         \u001b[1;32mreturn\u001b[0m \u001b[0mself\u001b[0m\u001b[1;33m.\u001b[0m\u001b[0m_take_with_is_copy\u001b[0m\u001b[1;33m(\u001b[0m\u001b[0mindexer\u001b[0m\u001b[1;33m,\u001b[0m \u001b[0maxis\u001b[0m\u001b[1;33m=\u001b[0m\u001b[1;36m0\u001b[0m\u001b[1;33m)\u001b[0m\u001b[1;33m\u001b[0m\u001b[1;33m\u001b[0m\u001b[0m\n",
      "\u001b[1;32m~\\anaconda3\\lib\\site-packages\\pandas\\core\\indexing.py\u001b[0m in \u001b[0;36mcheck_bool_indexer\u001b[1;34m(index, key)\u001b[0m\n\u001b[0;32m   2386\u001b[0m         \u001b[0mmask\u001b[0m \u001b[1;33m=\u001b[0m \u001b[0misna\u001b[0m\u001b[1;33m(\u001b[0m\u001b[0mresult\u001b[0m\u001b[1;33m.\u001b[0m\u001b[0m_values\u001b[0m\u001b[1;33m)\u001b[0m\u001b[1;33m\u001b[0m\u001b[1;33m\u001b[0m\u001b[0m\n\u001b[0;32m   2387\u001b[0m         \u001b[1;32mif\u001b[0m \u001b[0mmask\u001b[0m\u001b[1;33m.\u001b[0m\u001b[0many\u001b[0m\u001b[1;33m(\u001b[0m\u001b[1;33m)\u001b[0m\u001b[1;33m:\u001b[0m\u001b[1;33m\u001b[0m\u001b[1;33m\u001b[0m\u001b[0m\n\u001b[1;32m-> 2388\u001b[1;33m             raise IndexingError(\n\u001b[0m\u001b[0;32m   2389\u001b[0m                 \u001b[1;34m\"Unalignable boolean Series provided as \"\u001b[0m\u001b[1;33m\u001b[0m\u001b[1;33m\u001b[0m\u001b[0m\n\u001b[0;32m   2390\u001b[0m                 \u001b[1;34m\"indexer (index of the boolean Series and of \"\u001b[0m\u001b[1;33m\u001b[0m\u001b[1;33m\u001b[0m\u001b[0m\n",
      "\u001b[1;31mIndexingError\u001b[0m: Unalignable boolean Series provided as indexer (index of the boolean Series and of the indexed object do not match)."
     ]
    }
   ],
   "source": [
    "new_iso3_drop_clean = df_subset[(new_iso3_drop['polity2'] >= -10) & (new_iso3_drop['polity2'] <= 10)]"
   ]
  },
  {
   "cell_type": "markdown",
   "id": "1a1b6f3a-11d9-477f-9fab-f7e644176c67",
   "metadata": {},
   "source": [
    "4d) Make a map that shows the number of observations of polity2 by country **(1 point)**"
   ]
  },
  {
   "cell_type": "code",
   "execution_count": null,
   "id": "53846332-57ef-4909-8367-5ffd2d737eee",
   "metadata": {},
   "outputs": [],
   "source": [
    "# Answer 4d\n"
   ]
  },
  {
   "cell_type": "markdown",
   "id": "bba5258b-9ef6-4e9d-bf52-29a0d7ebc9b7",
   "metadata": {},
   "source": [
    "4e) Store the final dataframe (the one you obtained after 5d) in an object called df_pol **(1 point)**"
   ]
  },
  {
   "cell_type": "code",
   "execution_count": null,
   "id": "7bb74cbc-5356-4e4b-b5b4-a5174c9ced76",
   "metadata": {},
   "outputs": [],
   "source": [
    "# Answer 4e\n"
   ]
  },
  {
   "cell_type": "markdown",
   "id": "ac1b6cd3-101d-4343-b76d-d97583fe33ca",
   "metadata": {
    "tags": []
   },
   "source": [
    "## Quality of Government Environmental Indicators <a class=\"anchor\" id=\"qog\"></a>"
   ]
  },
  {
   "cell_type": "markdown",
   "id": "af58204e-f401-4b6e-b64a-c9d098faa0f2",
   "metadata": {},
   "source": [
    "The QoG Environmental Indicators dataset (QoG-EI) (Povitkina, Marina, Natalia Alvarado Pachon & Cem Mert Dalli. 2021). The Quality of Government Environmental Indicators Dataset, version Sep21. University of Gothenburg: The Quality of Government Institute, https://www.gu.se/en/quality-government), is a compilation of indicators measuring countries' environmental performance over time, including the presence and stringency of environmental policies, environmental outcomes (emissions, deforestation, etc.), and public opinion on the environment. Codebook and data are available [here](https://www.gu.se/en/quality-government/qog-data/data-downloads/environmental-indicators-dataset)."
   ]
  },
  {
   "cell_type": "markdown",
   "id": "c0dc77f2-25d1-41ce-930a-c25a05ac9cdc",
   "metadata": {},
   "source": [
    "### Question 5: Import the data and do few fixes <a class=\"anchor\" id=\"question5\"></a>"
   ]
  },
  {
   "cell_type": "markdown",
   "id": "9959796a-3340-4231-838c-a4e2cba4262c",
   "metadata": {},
   "source": [
    "5a) Import data from the Quality of Government Environmental Indicators Dataset and display the variables types and the number of rows **(1 point)**\n",
    "<br>\n",
    "Hint: When you go on the webpage of the Environmental Indicators Dataset, you can directly import from a URL by copying the link address of the dataset! "
   ]
  },
  {
   "cell_type": "code",
   "execution_count": null,
   "id": "501ef767-dca9-426e-9e34-1335038b3b6f",
   "metadata": {},
   "outputs": [],
   "source": [
    "# Answer 5a\n",
    "url = 'https://www.qogdata.pol.gu.se/data/qog_ei_sept21.csv'\n",
    "\n",
    "df_five = pd.read_csv(url , encoding='latin-1')\n",
    "df_five.dtypes"
   ]
  },
  {
   "cell_type": "code",
   "execution_count": null,
   "id": "81433eb7",
   "metadata": {},
   "outputs": [],
   "source": [
    "len(df_five.index)"
   ]
  },
  {
   "cell_type": "markdown",
   "id": "130a8293-d098-4a79-a803-50d52f6b63b3",
   "metadata": {},
   "source": [
    "5b) Rename the variable \"ccodealp\" to \"iso3\" **(1 point)**"
   ]
  },
  {
   "cell_type": "code",
   "execution_count": null,
   "id": "fc0e78d3-06b3-418c-81b8-05bbef009ced",
   "metadata": {},
   "outputs": [],
   "source": [
    "# Answer 5b\n",
    "df_five.rename(columns = {'ccodealp': 'iso3'}, inplace = True)"
   ]
  },
  {
   "cell_type": "markdown",
   "id": "1b3b34e8-0daa-4481-9b1b-61e7d318c571",
   "metadata": {},
   "source": [
    "5c) Check the type of the variables \"year\" and \"iso3\" are string, if not convert them to string **(1 point)**"
   ]
  },
  {
   "cell_type": "code",
   "execution_count": null,
   "id": "c1993423-8edf-4bb0-8ea0-69034fce5a2c",
   "metadata": {},
   "outputs": [],
   "source": [
    "# Answer 5c\n",
    "print(df_five.dtypes[\"iso3\"])"
   ]
  },
  {
   "cell_type": "code",
   "execution_count": null,
   "id": "ea535e5b",
   "metadata": {},
   "outputs": [],
   "source": [
    "print(df_five.dtypes[\"year\"])"
   ]
  },
  {
   "cell_type": "code",
   "execution_count": null,
   "id": "aa64358d",
   "metadata": {},
   "outputs": [],
   "source": [
    "df_five['year'] = df_five['year'].apply(str) #we convert 'year' into a string\n",
    "\n",
    "print(df_five.dtypes[\"year\"])"
   ]
  },
  {
   "cell_type": "markdown",
   "id": "222b61d4-55aa-439b-823f-67aad3f6fc16",
   "metadata": {},
   "source": [
    "### Question 6: Merge QOG and Polity5 ... issues with QOG? <a class=\"anchor\" id=\"question6\"></a>"
   ]
  },
  {
   "cell_type": "markdown",
   "id": "f6f8af7f-3b38-4834-90b4-e1cbbb7b7359",
   "metadata": {},
   "source": [
    "6a) Get a subset of the dataframe that includes the variables \"cname\", \"iso3\", \"year\" and \"cckp_temp\", and display the number of rows. **(1 point)**"
   ]
  },
  {
   "cell_type": "code",
   "execution_count": null,
   "id": "8736cd36-ed4e-4dbd-96a9-c3d51bd343be",
   "metadata": {},
   "outputs": [],
   "source": [
    "# Answer 6a\n",
    "df_five_subset = df_five.loc[:, ('cname', 'iso3','year','cckp_temp')]\n",
    "df_five_subset"
   ]
  },
  {
   "cell_type": "code",
   "execution_count": null,
   "id": "762ea658",
   "metadata": {},
   "outputs": [],
   "source": [
    "len(df_five_subset)"
   ]
  },
  {
   "cell_type": "markdown",
   "id": "195a0373-fab5-4346-bed7-3500ed9aced0",
   "metadata": {},
   "source": [
    "6b) Merge this subset (left) and the clean version of the polity data (right), using the argument how=\"left\". Was the merge succesfull? If yes, how many rows has the merged dataframe? Is it the same number of rows of the subset in 6a? **(1 point)**"
   ]
  },
  {
   "cell_type": "code",
   "execution_count": null,
   "id": "2bb2b0ba-fdd7-474a-9241-6d96e6eca6f0",
   "metadata": {},
   "outputs": [],
   "source": [
    "# Answer 6b\n"
   ]
  },
  {
   "cell_type": "markdown",
   "id": "652e5a50-5bda-4331-82a9-9cfe09a365cb",
   "metadata": {},
   "source": [
    "6c) Do the same by adding the argument validate=\"one-to-one\". Can you make some hypotheses on why you get an error? **(1 point)**"
   ]
  },
  {
   "cell_type": "code",
   "execution_count": null,
   "id": "fee8e0a9-75e7-4c37-80ad-3f5ddef8d602",
   "metadata": {},
   "outputs": [],
   "source": [
    "# Answer 6c\n"
   ]
  },
  {
   "cell_type": "markdown",
   "id": "1f8da9ac-de08-460e-b364-40aaf5a9aa34",
   "metadata": {},
   "source": [
    "6d) Consider the subset of the QOG you obtained in 6a and write a code to (i) count the number of observations for the variable \"cckp_temp\" for each combination of iso3 and year, (ii) store the results in a dataframe. For example, the combination \"USA-2012\" should have 1 observation for \"cckp_temp\", so the result of your code should be 1. The code should do this for all iso3-year combinations of your subset dataframe, and store the results in a dataframe. **(1 point)**\n",
    "<br>\n",
    "Hint: it should not take you more than 2 lines of code."
   ]
  },
  {
   "cell_type": "code",
   "execution_count": null,
   "id": "593a4be8-0760-454d-8f55-e5e0bd18af49",
   "metadata": {},
   "outputs": [],
   "source": [
    "# Answer 6d\n"
   ]
  },
  {
   "cell_type": "markdown",
   "id": "d3e92628-2085-4edf-aed4-8e6db647d9c6",
   "metadata": {},
   "source": [
    "6e) Use the code in 6d to write a function that displays all rows of the dataframe obtained in 6a that have more than one observation of \"cckp_temp\" for each iso3-year combination, and check if it works. **(1 point)**"
   ]
  },
  {
   "cell_type": "code",
   "execution_count": null,
   "id": "e953896a-28a5-4d38-8ad3-93027c5c4698",
   "metadata": {},
   "outputs": [],
   "source": [
    "# Answer 6e\n"
   ]
  },
  {
   "cell_type": "markdown",
   "id": "a190da03-b34c-4566-8aec-5a1a540ac660",
   "metadata": {},
   "source": [
    "6f) Which countries have more than one observation for each iso3-year combination? Deal with these countries in the subset dataframe created in 6a to make sure you no longer have double observations for iso3-year combinations, and check that after your fix this is actually the case. **(1 point)**\n",
    "<br>\n",
    "Hint: should we keep a country with all missing values?"
   ]
  },
  {
   "cell_type": "code",
   "execution_count": null,
   "id": "6d960c4a-b755-448c-8952-aee2e6eee878",
   "metadata": {},
   "outputs": [],
   "source": [
    "# Answer 6f\n"
   ]
  },
  {
   "cell_type": "markdown",
   "id": "9ae70541-6427-4f83-bd05-37ef68baf5cd",
   "metadata": {},
   "source": [
    "6g) If your check went well, now you can perform the same operation directly in the QOG dataframe (not in the substed dataframe created in 6a). How many rows does now the QOG dataframe has? **(1 point)**"
   ]
  },
  {
   "cell_type": "code",
   "execution_count": null,
   "id": "6c9f20b2-04e4-46d0-94f6-e580913ddfc1",
   "metadata": {},
   "outputs": [],
   "source": [
    "# Answer 6g\n"
   ]
  },
  {
   "cell_type": "markdown",
   "id": "82fd12e1-799e-4e4c-8d13-db496fb5bab4",
   "metadata": {},
   "source": [
    "### Question 7: Merge QOG and Polity5 ... issues with Polity5? <a class=\"anchor\" id=\"question7\"></a>"
   ]
  },
  {
   "cell_type": "markdown",
   "id": "72692a86-a9ab-44bb-bb56-b3c22e0829c4",
   "metadata": {},
   "source": [
    "7a) Merge the cleaned QOG dataframe (left) and the Polity dataframe (right) using the options how=\"left\" and validate=\"one_to_one\". Does it work? Why? **(1 point)**"
   ]
  },
  {
   "cell_type": "code",
   "execution_count": null,
   "id": "82261ca5-c3ec-49f6-8de8-be1b14943cb0",
   "metadata": {},
   "outputs": [],
   "source": [
    "# Answer 7a\n"
   ]
  },
  {
   "cell_type": "markdown",
   "id": "95740ccf-88d7-46ee-82ab-f1a8b42d9722",
   "metadata": {},
   "source": [
    "7b) Use the function you wrote in 6e to check what's wrong in the \"clean\" version of Polity **(1 point)**"
   ]
  },
  {
   "cell_type": "code",
   "execution_count": null,
   "id": "356409a0-73e8-41ac-af75-c2f6a462c519",
   "metadata": {},
   "outputs": [],
   "source": [
    "# Answer 7b\n"
   ]
  },
  {
   "cell_type": "markdown",
   "id": "f23d8f5b-10f5-4540-b714-99b77f3e5203",
   "metadata": {},
   "source": [
    "7c) Drop or fix the countries that create troubles directly in the \"clean\" version of Polity and motivate your choices. **(1 point)**"
   ]
  },
  {
   "cell_type": "code",
   "execution_count": null,
   "id": "8aeb945c-418a-4eee-bdd3-2dce12246196",
   "metadata": {},
   "outputs": [],
   "source": [
    "# Answer 7c\n"
   ]
  },
  {
   "cell_type": "markdown",
   "id": "88282d66-3aa1-4fa4-b7cc-b448c649052c",
   "metadata": {},
   "source": [
    "7d) Try now to merge the \"clean-clean\" versions of COG and Polity (the ones you obtained in 7g and 8c) always using the options how=\"left\" and validate=\"one_to_one\". Does it work, and why? How many rows has the resulting merged dataframe? **(1 point)**"
   ]
  },
  {
   "cell_type": "code",
   "execution_count": null,
   "id": "12e52b0f-7484-4656-82bd-8de4cee284a6",
   "metadata": {},
   "outputs": [],
   "source": [
    "# Answer 7d\n"
   ]
  },
  {
   "cell_type": "markdown",
   "id": "3be8479c-556a-4c9b-b89f-a8f714e888ad",
   "metadata": {},
   "source": [
    "### Question 8: Clean the merged dataframe <a class=\"anchor\" id=\"question8\"></a>"
   ]
  },
  {
   "cell_type": "markdown",
   "id": "a936854f-7882-47bc-a2c0-cb39b53128b0",
   "metadata": {},
   "source": [
    "8a) In the merged dataframe, order the columns so that you have the \"index\" variables first and the variables with actual values last. **(1 point)**\n",
    "<br>\n",
    "Hint: index variables are \"iso3\", \"year\" and other similar variables you can find, and the variables with actual values are \"polity2\", \"cckp_temp\" and other similar variables you can find."
   ]
  },
  {
   "cell_type": "code",
   "execution_count": null,
   "id": "c7e92ad2-8007-4a4b-a47f-44c040ccfbde",
   "metadata": {},
   "outputs": [],
   "source": [
    "# Answer 8a\n"
   ]
  },
  {
   "cell_type": "markdown",
   "id": "1b39c4e8-6f99-47c9-9d32-4196e4184537",
   "metadata": {},
   "source": [
    "8b) Rename \"cname\" as \"country\" and \"country\" as \"country_polity\". **(1 point)**"
   ]
  },
  {
   "cell_type": "code",
   "execution_count": null,
   "id": "89e2cccd-473d-462e-9b2f-726aa6763d98",
   "metadata": {},
   "outputs": [],
   "source": [
    "# Answer 8b\n"
   ]
  },
  {
   "cell_type": "markdown",
   "id": "353db63e-08d7-41df-9bdf-e0aa20174569",
   "metadata": {},
   "source": [
    "8c) Save the clean merged dataframe as a csv in a subfolder called \"clean_data\" in your working directory **(1 point)**"
   ]
  },
  {
   "cell_type": "code",
   "execution_count": null,
   "id": "8a684c82-6df7-480f-9374-a2d4e7ec069a",
   "metadata": {},
   "outputs": [],
   "source": [
    "# Answer 8c\n"
   ]
  },
  {
   "cell_type": "markdown",
   "id": "354f2840-c690-4b3e-8e4c-0025101bdc62",
   "metadata": {},
   "source": [
    "## Exploratory Data Analysis <a class=\"anchor\" id=\"eda\"></a>"
   ]
  },
  {
   "cell_type": "markdown",
   "id": "baa01e2b-dc8a-49ae-a19b-8c42bd0f2e57",
   "metadata": {},
   "source": [
    "In this section you will define a research question and perform a preliminary Exploratory Data Analysis (EDA) to address - or better, start addressing - the question at hand. This exercise will be done along the lines of the analysis done by our own Quentin Gallea in \"*A recipe to empirically answer any question quickly*\" ([Towards Data Science, 2022](https://towardsdatascience.com/a-recipe-to-empirically-answer-any-question-quickly-22e48c867dd5)). In this article, Quentin shows the first steps of an EDA that aims to explore whether heat waves have pushed governments to implement regulations against climate change (causal link). The logic is that, as it gets hotter and hotter, governments become more aware of climate change, and the problems it can cause to society, and start addressing it. In Quentin's analysis, heat waves (proxied by temperature) is the \"main explanatory variable\", rainfall is the \"explanatory variable for heterogeneity\", and regulations against climate change (proxied by the Environmental Policy Stringency Index) is the \"outcome variable\". He finds that indeed countries with relatively high temperatures have implemented more regulations against climate change. This is true especially when rainfall levels are low, as when it does not rain the damage of extreme heat is more evident to legislators, who therefore apply stricter regulations against these phenomenons.\n",
    "<br>\n",
    "<br>\n",
    "In this exercise, you will be asked to do a similar analysis on a research question of your choice, using at least two of the variables of the dataset we have created in the former questions (QOG + Polity). For example, \"what is the average temperature in 2010?\" is not a valid research question (univariate), while \"what is the impact of high temperatures on the stringency of climate regulations?\" is a valid research question (at least bivariate). As before, we will ask you some (this time more general and open) questions, and you should report your answer in the cells below each question. Use a mix of markdown and code cells to answer (markdown for text and code for graphs and tables). We should be able to run all the graphs, i.e. screenshots of graphs are not accepted. Note that for now we have put only one markdown cell and one code cell for the answer, but feel free to add as many cells as you need.\n",
    "<br>\n",
    "Beyond the python code, we will grade the interpretations of the results and the coding decision you make.\n",
    "<br>\n",
    "<br>\n",
    "Let your creativity guide you and let's have some fun!"
   ]
  },
  {
   "cell_type": "markdown",
   "id": "d5f97f39-3b6d-4546-8871-b136d122854c",
   "metadata": {
    "tags": []
   },
   "source": [
    "### Question 9: Selecting the ingredients (how I select the variables) <a class=\"anchor\" id=\"question9\"></a>\n",
    "We have saved the clean merged data that resulted from the previous questions in \"clean_data_prepared_EDA\" (it should be the same of the one you saved in \"clean_data\"). Import the clean merged data from \"clean_data_prepared_EDA\" using this [link](https://raw.githubusercontent.com/edoardochiarotti/class_datascience/main/Notebooks/Assignment/individual_assignment/clean_data_prepared_EDA/df_qog_polity_merged.csv). Explore the variables in the newly obtained dataframe by checking the documentation of QOG and Polity. Then, define a research question that addresses a causal link between at least two of these variables. Describe the research question, why you are addressing it and the variables of interest (outcome variable, main explanatory variable and explanatory variable for heterogeneity). **(3 points)**"
   ]
  },
  {
   "cell_type": "markdown",
   "id": "0df577a5-f0f1-43e8-aeb1-0708fe53892b",
   "metadata": {},
   "source": [
    "Answer 9:"
   ]
  },
  {
   "cell_type": "code",
   "execution_count": null,
   "id": "b575ca1f-de5a-4b03-a51a-7f0cc5fa18cc",
   "metadata": {},
   "outputs": [],
   "source": [
    "# Answer 9:\n",
    "url = \"https://raw.githubusercontent.com/edoardochiarotti/class_datascience/main/Notebooks/Assignment/individual_assignment/clean_data_prepared_EDA/df_qog_polity_merged.csv\"\n",
    "\n",
    "df_eda=pd.read_csv(url)\n",
    "list(df_eda)"
   ]
  },
  {
   "cell_type": "markdown",
   "id": "f72fea68",
   "metadata": {},
   "source": [
    "Answer 9: How the Co2 levels affect the regulations against climate of each country.\n",
    "In my analysis, Co2 levels (proxied by temperature) is the \"main explanatory variable\", and regulations against climate change is the \"outcome variable\"."
   ]
  },
  {
   "cell_type": "markdown",
   "id": "637b5531-0329-4817-a341-d1a1bb96ef2d",
   "metadata": {},
   "source": [
    "### Question 10: Picking the right quantity of each ingredient (how I select my sample) <a class=\"anchor\" id=\"question10\"></a>\n",
    "Explore the data availability of your variables of interest and select a clean sample for the analysis. Describe this sample with the help of summary-statistics tables and maps. **(3 points)**"
   ]
  },
  {
   "cell_type": "markdown",
   "id": "08ef40ba-ff3a-4983-99c7-151be2f9622e",
   "metadata": {},
   "source": [
    "Answer 10:"
   ]
  },
  {
   "cell_type": "code",
   "execution_count": null,
   "id": "bb262470-32d1-4d2c-af1c-8616daed69e6",
   "metadata": {},
   "outputs": [],
   "source": [
    "# Answer 10:"
   ]
  },
  {
   "cell_type": "markdown",
   "id": "ab4434c1-4ca5-44af-a24c-67a1b8d20cc6",
   "metadata": {},
   "source": [
    "### Question 11: Tasting and preparing the ingredients (univariate analysis) <a class=\"anchor\" id=\"question11\"></a>\n",
    "Do an univariate analysis for each variable you have chosen (outcome variable, main explanatory variable and explanatory variable for heterogeneity):\n",
    "- Prepare the variable, for example see if you need to transform the data further, i.e. log-transform, define a categorical variable, deal with outliers, etc.\n",
    "- Understand the nature of the variable, i.e. continuous, categorical, binary, etc., which then allows to pick the right statistical tool in the bivariate analysis.\n",
    "- Get an idea of the variable's behaviour across time and space.\n",
    "\n",
    "Describe these steps and the conclusions you can draw with the help of histograms, tables, maps and line graphs. **(3 points)**"
   ]
  },
  {
   "cell_type": "markdown",
   "id": "ef687c9b-69c5-49b0-adb3-2aac7406112c",
   "metadata": {},
   "source": [
    "Answer 11:"
   ]
  },
  {
   "cell_type": "code",
   "execution_count": null,
   "id": "b3fffac2-d33c-410f-9f10-c190a4c59641",
   "metadata": {},
   "outputs": [],
   "source": [
    "# Answer 11:"
   ]
  },
  {
   "cell_type": "markdown",
   "id": "21a1ad4a-70fc-4f39-bffb-cf10dd93205f",
   "metadata": {},
   "source": [
    "### Question 12: Cooking the ingredients together (bivariate analysis) <a class=\"anchor\" id=\"question12\"></a>"
   ]
  },
  {
   "cell_type": "markdown",
   "id": "d9a0c658-8c22-4bb0-b1ef-4b5860f6cc31",
   "metadata": {},
   "source": [
    "Considering the \"nature\" of your variables (continuous, categorical, binary, etc.), pick the right tool / tools for a preliminary bivariate analysis, i.e. correlation tables, bar/line graphs, scatter plots, etc. Use these tools to describe your preliminary bivariate analysis and your findings. **(3 points)**"
   ]
  },
  {
   "cell_type": "markdown",
   "id": "ec8bb04c-9223-4e3d-b815-2d7ee3657f00",
   "metadata": {},
   "source": [
    "Answer 12:"
   ]
  },
  {
   "cell_type": "code",
   "execution_count": null,
   "id": "4a6c0962-c661-4649-b8f3-e721e7ef66fd",
   "metadata": {},
   "outputs": [],
   "source": [
    "# Answer 12:"
   ]
  },
  {
   "cell_type": "markdown",
   "id": "efc0a05d-004a-42f3-b472-b7a808cd0dc1",
   "metadata": {},
   "source": [
    "### Question 13: Tasting the new recipe (conclusion) <a class=\"anchor\" id=\"question13\"></a>"
   ]
  },
  {
   "cell_type": "markdown",
   "id": "cf6b861d-d4d5-42b1-94ad-5aa33f9bf7a2",
   "metadata": {},
   "source": [
    "Explain what you learned, the problem faced, what would you do next (you can suggest other data you would like to have etc). **(2 points)**"
   ]
  },
  {
   "cell_type": "markdown",
   "id": "5536aef2-a8df-4e17-9089-01ba8d93c029",
   "metadata": {},
   "source": [
    "Answer 13:"
   ]
  }
 ],
 "metadata": {
  "kernelspec": {
   "display_name": "Python 3 (ipykernel)",
   "language": "python",
   "name": "python3"
  },
  "language_info": {
   "codemirror_mode": {
    "name": "ipython",
    "version": 3
   },
   "file_extension": ".py",
   "mimetype": "text/x-python",
   "name": "python",
   "nbconvert_exporter": "python",
   "pygments_lexer": "ipython3",
   "version": "3.9.13"
  }
 },
 "nbformat": 4,
 "nbformat_minor": 5
}
