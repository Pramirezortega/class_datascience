{
 "cells": [
  {
   "cell_type": "code",
   "execution_count": null,
   "id": "0f5bdc11-218f-4dff-b61f-f3a63836ccc0",
   "metadata": {},
   "outputs": [],
   "source": [
    "import pandas as pd\n",
    "import numpy as np"
   ]
  },
  {
   "cell_type": "code",
   "execution_count": null,
   "id": "69df32cc-d8d7-4c79-9d34-c22ad533f7d5",
   "metadata": {},
   "outputs": [],
   "source": [
    "import os\n",
    "\n",
    "mywd = 'C:\\\\Users\\\\paula\\\\Desktop\\\\UNIL\\\\Statistics and Data Science\\\\GH3\\\\Notebooks\\\\Week_05'\n",
    "os.chdir(mywd)\n",
    "os.getcwd()"
   ]
  },
  {
   "cell_type": "code",
   "execution_count": null,
   "id": "fd693dea-4a70-459c-ac8b-65c8f8bcc5bf",
   "metadata": {},
   "outputs": [],
   "source": [
    "pwd"
   ]
  },
  {
   "cell_type": "code",
   "execution_count": null,
   "id": "8a79e89b-e4df-4dd4-b649-65723dbf8bfc",
   "metadata": {},
   "outputs": [],
   "source": [
    "# Import dataset on Global Preference Survey from local folder\n",
    "df_gps = pd.read_stata(\"data/global_preference_survey.dta\")"
   ]
  },
  {
   "cell_type": "code",
   "execution_count": null,
   "id": "aac8a0d3-ddf0-4fb8-bd8f-c93875eddccb",
   "metadata": {},
   "outputs": [],
   "source": [
    "df_gps.head(7)"
   ]
  },
  {
   "cell_type": "code",
   "execution_count": null,
   "id": "c76dca81-fb6c-489d-92bf-09f0d93ba531",
   "metadata": {},
   "outputs": [],
   "source": [
    "df_gps.dtypes"
   ]
  },
  {
   "cell_type": "code",
   "execution_count": null,
   "id": "817e7898-197e-4512-aaef-93e92e787ee2",
   "metadata": {},
   "outputs": [],
   "source": [
    "df_gps.describe()"
   ]
  },
  {
   "cell_type": "code",
   "execution_count": null,
   "id": "59308d3f-e785-43dd-90d5-fa7b02884169",
   "metadata": {},
   "outputs": [],
   "source": [
    "df_gps.boxplot(column =['patience', 'risktaking', 'posrecip', 'negrecip', 'altruism'], grid = False)"
   ]
  },
  {
   "cell_type": "code",
   "execution_count": null,
   "id": "3bd479e3-f306-4f47-88f3-b4cff9f571c5",
   "metadata": {},
   "outputs": [],
   "source": [
    "import matplotlib.pyplot as plt #plt is pyplot"
   ]
  },
  {
   "cell_type": "code",
   "execution_count": 18,
   "id": "11cc61f8-f336-401c-853e-a3b7a4eaeb5c",
   "metadata": {},
   "outputs": [
    {
     "data": {
      "image/png": "[encoded data removed]",
      "text/plain": [
       "<Figure size 432x288 with 1 Axes>"
      ]
     },
     "metadata": {
      "needs_background": "light"
     },
     "output_type": "display_data"
    }
   ],
   "source": [
    "plt.hist(df_gps.loc[:,\"risktaking\"],       # risktaking column as argument\n",
    "         color = \"pink\")                      # color in green\n",
    "plt.title('Histogram of Risk taking')      # Title your figure!\n",
    "plt.xlim(-1, 1)       # Specify x-axis range\n",
    "plt.ylim(0, 25)       # Specify y-axis range\n",
    "plt.grid(True)        # Add grid\n",
    "plt.show()            # Display graph"
   ]
  },
  {
   "cell_type": "code",
   "execution_count": null,
   "id": "23dcd57f-0d7e-4916-b874-28fe83649d9d",
   "metadata": {},
   "outputs": [],
   "source": []
  },
  {
   "cell_type": "code",
   "execution_count": 19,
   "id": "15437b15-9d8c-4576-bfa2-6efc492ad726",
   "metadata": {},
   "outputs": [
    {
     "data": {
      "text/html": [
       "<div>\n",
       "<style scoped>\n",
       "    .dataframe tbody tr th:only-of-type {\n",
       "        vertical-align: middle;\n",
       "    }\n",
       "\n",
       "    .dataframe tbody tr th {\n",
       "        vertical-align: top;\n",
       "    }\n",
       "\n",
       "    .dataframe thead th {\n",
       "        text-align: right;\n",
       "    }\n",
       "</style>\n",
       "<table border=\"1\" class=\"dataframe\">\n",
       "  <thead>\n",
       "    <tr style=\"text-align: right;\">\n",
       "      <th></th>\n",
       "      <th>iso3</th>\n",
       "      <th>patience</th>\n",
       "      <th>risktaking</th>\n",
       "      <th>posrecip</th>\n",
       "      <th>negrecip</th>\n",
       "      <th>altruism</th>\n",
       "      <th>trust</th>\n",
       "      <th>Cluster</th>\n",
       "    </tr>\n",
       "  </thead>\n",
       "  <tbody>\n",
       "    <tr>\n",
       "      <th>0</th>\n",
       "      <td>AFG</td>\n",
       "      <td>-0.201360</td>\n",
       "      <td>0.120764</td>\n",
       "      <td>0.289641</td>\n",
       "      <td>0.254712</td>\n",
       "      <td>0.166455</td>\n",
       "      <td>0.315964</td>\n",
       "      <td>1.0</td>\n",
       "    </tr>\n",
       "    <tr>\n",
       "      <th>1</th>\n",
       "      <td>DZA</td>\n",
       "      <td>0.059815</td>\n",
       "      <td>0.391530</td>\n",
       "      <td>-0.598255</td>\n",
       "      <td>0.254901</td>\n",
       "      <td>-0.009968</td>\n",
       "      <td>-0.177371</td>\n",
       "      <td>1.0</td>\n",
       "    </tr>\n",
       "    <tr>\n",
       "      <th>2</th>\n",
       "      <td>ARG</td>\n",
       "      <td>-0.229308</td>\n",
       "      <td>0.041503</td>\n",
       "      <td>0.159679</td>\n",
       "      <td>-0.140457</td>\n",
       "      <td>0.027347</td>\n",
       "      <td>-0.206733</td>\n",
       "      <td>1.0</td>\n",
       "    </tr>\n",
       "    <tr>\n",
       "      <th>3</th>\n",
       "      <td>AUS</td>\n",
       "      <td>0.657004</td>\n",
       "      <td>0.137137</td>\n",
       "      <td>0.069660</td>\n",
       "      <td>0.022190</td>\n",
       "      <td>0.155331</td>\n",
       "      <td>0.298973</td>\n",
       "      <td>1.0</td>\n",
       "    </tr>\n",
       "    <tr>\n",
       "      <th>4</th>\n",
       "      <td>AUT</td>\n",
       "      <td>0.608285</td>\n",
       "      <td>-0.061829</td>\n",
       "      <td>0.161047</td>\n",
       "      <td>-0.055415</td>\n",
       "      <td>-0.035363</td>\n",
       "      <td>0.154628</td>\n",
       "      <td>1.0</td>\n",
       "    </tr>\n",
       "    <tr>\n",
       "      <th>5</th>\n",
       "      <td>BGD</td>\n",
       "      <td>0.081137</td>\n",
       "      <td>-0.198068</td>\n",
       "      <td>0.154368</td>\n",
       "      <td>0.113288</td>\n",
       "      <td>0.906463</td>\n",
       "      <td>-0.173365</td>\n",
       "      <td>1.0</td>\n",
       "    </tr>\n",
       "    <tr>\n",
       "      <th>6</th>\n",
       "      <td>BOL</td>\n",
       "      <td>0.071331</td>\n",
       "      <td>0.103038</td>\n",
       "      <td>0.107920</td>\n",
       "      <td>-0.003735</td>\n",
       "      <td>-0.005187</td>\n",
       "      <td>-0.160330</td>\n",
       "      <td>1.0</td>\n",
       "    </tr>\n",
       "    <tr>\n",
       "      <th>7</th>\n",
       "      <td>BIH</td>\n",
       "      <td>-0.247258</td>\n",
       "      <td>-0.125639</td>\n",
       "      <td>0.096463</td>\n",
       "      <td>0.429355</td>\n",
       "      <td>-0.115310</td>\n",
       "      <td>-0.193106</td>\n",
       "      <td>0.0</td>\n",
       "    </tr>\n",
       "    <tr>\n",
       "      <th>8</th>\n",
       "      <td>BWA</td>\n",
       "      <td>0.233990</td>\n",
       "      <td>0.697379</td>\n",
       "      <td>-0.258667</td>\n",
       "      <td>-0.172722</td>\n",
       "      <td>-0.142062</td>\n",
       "      <td>-0.338462</td>\n",
       "      <td>0.0</td>\n",
       "    </tr>\n",
       "  </tbody>\n",
       "</table>\n",
       "</div>"
      ],
      "text/plain": [
       "  iso3  patience  risktaking  posrecip  negrecip  altruism     trust  Cluster\n",
       "0  AFG -0.201360    0.120764  0.289641  0.254712  0.166455  0.315964      1.0\n",
       "1  DZA  0.059815    0.391530 -0.598255  0.254901 -0.009968 -0.177371      1.0\n",
       "2  ARG -0.229308    0.041503  0.159679 -0.140457  0.027347 -0.206733      1.0\n",
       "3  AUS  0.657004    0.137137  0.069660  0.022190  0.155331  0.298973      1.0\n",
       "4  AUT  0.608285   -0.061829  0.161047 -0.055415 -0.035363  0.154628      1.0\n",
       "5  BGD  0.081137   -0.198068  0.154368  0.113288  0.906463 -0.173365      1.0\n",
       "6  BOL  0.071331    0.103038  0.107920 -0.003735 -0.005187 -0.160330      1.0\n",
       "7  BIH -0.247258   -0.125639  0.096463  0.429355 -0.115310 -0.193106      0.0\n",
       "8  BWA  0.233990    0.697379 -0.258667 -0.172722 -0.142062 -0.338462      0.0"
      ]
     },
     "execution_count": 19,
     "metadata": {},
     "output_type": "execute_result"
    }
   ],
   "source": [
    "altruism_mean = df_gps['altruism'].mean()\n",
    "\n",
    "df_gps.loc[df_gps['altruism'] < altruism_mean, 'Cluster'] = 0\n",
    "df_gps.loc[df_gps['altruism'] >= altruism_mean, 'Cluster'] = 1\n",
    "\n",
    "df_gps.head(9)"
   ]
  },
  {
   "cell_type": "code",
   "execution_count": 20,
   "id": "0e86d8d5-f7bd-491e-88d8-85b3b4a3367c",
   "metadata": {},
   "outputs": [
    {
     "data": {
      "text/html": [
       "<div>\n",
       "<style scoped>\n",
       "    .dataframe tbody tr th:only-of-type {\n",
       "        vertical-align: middle;\n",
       "    }\n",
       "\n",
       "    .dataframe tbody tr th {\n",
       "        vertical-align: top;\n",
       "    }\n",
       "\n",
       "    .dataframe thead th {\n",
       "        text-align: right;\n",
       "    }\n",
       "</style>\n",
       "<table border=\"1\" class=\"dataframe\">\n",
       "  <thead>\n",
       "    <tr style=\"text-align: right;\">\n",
       "      <th></th>\n",
       "      <th>iso3</th>\n",
       "      <th>patience</th>\n",
       "      <th>risktaking</th>\n",
       "      <th>posrecip</th>\n",
       "      <th>negrecip</th>\n",
       "      <th>altruism</th>\n",
       "      <th>trust</th>\n",
       "    </tr>\n",
       "    <tr>\n",
       "      <th>Cluster</th>\n",
       "      <th></th>\n",
       "      <th></th>\n",
       "      <th></th>\n",
       "      <th></th>\n",
       "      <th></th>\n",
       "      <th></th>\n",
       "      <th></th>\n",
       "    </tr>\n",
       "  </thead>\n",
       "  <tbody>\n",
       "    <tr>\n",
       "      <th>0.0</th>\n",
       "      <td>43</td>\n",
       "      <td>43</td>\n",
       "      <td>43</td>\n",
       "      <td>43</td>\n",
       "      <td>43</td>\n",
       "      <td>43</td>\n",
       "      <td>43</td>\n",
       "    </tr>\n",
       "    <tr>\n",
       "      <th>1.0</th>\n",
       "      <td>33</td>\n",
       "      <td>33</td>\n",
       "      <td>33</td>\n",
       "      <td>33</td>\n",
       "      <td>33</td>\n",
       "      <td>33</td>\n",
       "      <td>33</td>\n",
       "    </tr>\n",
       "  </tbody>\n",
       "</table>\n",
       "</div>"
      ],
      "text/plain": [
       "         iso3  patience  risktaking  posrecip  negrecip  altruism  trust\n",
       "Cluster                                                                 \n",
       "0.0        43        43          43        43        43        43     43\n",
       "1.0        33        33          33        33        33        33     33"
      ]
     },
     "execution_count": 20,
     "metadata": {},
     "output_type": "execute_result"
    }
   ],
   "source": [
    "df_gps.groupby('Cluster').count()"
   ]
  },
  {
   "cell_type": "code",
   "execution_count": 21,
   "id": "e5c2bb94-6bac-49f9-bff7-2ed0015bceb3",
   "metadata": {},
   "outputs": [
    {
     "ename": "ModuleNotFoundError",
     "evalue": "No module named 'plotly'",
     "output_type": "error",
     "traceback": [
      "\u001b[1;31m---------------------------------------------------------------------------\u001b[0m",
      "\u001b[1;31mModuleNotFoundError\u001b[0m                       Traceback (most recent call last)",
      "\u001b[1;32m<ipython-input-21-86e89bd44552>\u001b[0m in \u001b[0;36m<module>\u001b[1;34m\u001b[0m\n\u001b[1;32m----> 1\u001b[1;33m \u001b[1;32mimport\u001b[0m \u001b[0mplotly\u001b[0m\u001b[1;33m.\u001b[0m\u001b[0mexpress\u001b[0m \u001b[1;32mas\u001b[0m \u001b[0mpx\u001b[0m\u001b[1;33m\u001b[0m\u001b[1;33m\u001b[0m\u001b[0m\n\u001b[0m",
      "\u001b[1;31mModuleNotFoundError\u001b[0m: No module named 'plotly'"
     ]
    }
   ],
   "source": [
    "import plotly.express as px"
   ]
  },
  {
   "cell_type": "code",
   "execution_count": null,
   "id": "9e708052-65ae-4265-bcc5-c0d4b57e022d",
   "metadata": {},
   "outputs": [],
   "source": [
    "# Import the necessaries libraries\n",
    "import plotly.offline as pyo\n",
    "import plotly.graph_objs as go\n",
    "# Set notebook mode to work in offline\n",
    "pyo.init_notebook_mode()"
   ]
  },
  {
   "cell_type": "code",
   "execution_count": null,
   "id": "16d5d6d4-8235-4953-abed-064a29c160ba",
   "metadata": {},
   "outputs": [],
   "source": [
    "fig_box = px.box(df_gps,                                           # Specify data frame\n",
    "                 y=[\"posrecip\", \"negrecip\"],                       # Select posrecip and negrecip variables\n",
    "                 points=\"all\",                                     # Include all observations as data points\n",
    "                 color = \"Cluster\",                                # Color (and group by) column \"Cluster\"\n",
    "                 labels = {\"Cluster\": \"Altruism\"},                 # Rename \"Cluster\" as \"Altruism\" in our legend\n",
    "                 title = \"\"\"Positive and negative reciprocity for highly- and lowly-altruistic countries \n",
    "                 <br>(Highly-altrustic: 1.0; Lowly-altruistic: 0.0)\"\"\")       # Always add a title!\n",
    "fig_box.update_layout(autosize=False, width = 800)                # Specify width (by default, full notebook cell)\n",
    "fig_box"
   ]
  },
  {
   "cell_type": "code",
   "execution_count": null,
   "id": "dbb41629-8e50-434a-a979-571731809372",
   "metadata": {},
   "outputs": [],
   "source": []
  }
 ],
 "metadata": {
  "kernelspec": {
   "display_name": "Python 3",
   "language": "python",
   "name": "python3"
  },
  "language_info": {
   "codemirror_mode": {
    "name": "ipython",
    "version": 3
   },
   "file_extension": ".py",
   "mimetype": "text/x-python",
   "name": "python",
   "nbconvert_exporter": "python",
   "pygments_lexer": "ipython3",
   "version": "3.8.8"
  }
 },
 "nbformat": 4,
 "nbformat_minor": 5
}
