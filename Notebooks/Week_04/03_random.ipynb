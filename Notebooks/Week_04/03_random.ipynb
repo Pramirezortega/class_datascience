{
 "cells": [
  {
   "cell_type": "code",
   "execution_count": 1,
   "id": "5c999dd1-a326-4baa-b453-5eea34f74e0c",
   "metadata": {},
   "outputs": [
    {
     "name": "stdout",
     "output_type": "stream",
     "text": [
      "[1, 2, 3]\n"
     ]
    }
   ],
   "source": [
    "my_lis=[1,2,3]\n",
    "print(my_lis)"
   ]
  },
  {
   "cell_type": "code",
   "execution_count": 2,
   "id": "0f9490c1-afbf-49d7-8ef8-1bf75370740b",
   "metadata": {},
   "outputs": [
    {
     "data": {
      "text/plain": [
       "[1, 2, 3, 1, 2, 3, 1, 2, 3]"
      ]
     },
     "execution_count": 2,
     "metadata": {},
     "output_type": "execute_result"
    }
   ],
   "source": [
    "my_lis*3"
   ]
  },
  {
   "cell_type": "code",
   "execution_count": 3,
   "id": "b4babd72-0d4e-4c2d-b1ee-b5517bd387f8",
   "metadata": {},
   "outputs": [
    {
     "data": {
      "text/plain": [
       "[3, 6, 9]"
      ]
     },
     "execution_count": 3,
     "metadata": {},
     "output_type": "execute_result"
    }
   ],
   "source": [
    "[3*i for i in my_lis]"
   ]
  },
  {
   "cell_type": "code",
   "execution_count": 4,
   "id": "73236ed9-0a33-4622-9c4d-8f2c941206fb",
   "metadata": {},
   "outputs": [
    {
     "data": {
      "text/plain": [
       "[3, 9]"
      ]
     },
     "execution_count": 4,
     "metadata": {},
     "output_type": "execute_result"
    }
   ],
   "source": [
    "[3*i for i in [1,2,3] if 3*i %2 !=0]"
   ]
  },
  {
   "cell_type": "code",
   "execution_count": 2,
   "id": "eb194b23-0595-4397-98da-e9bf78d9e3f5",
   "metadata": {},
   "outputs": [
    {
     "data": {
      "text/plain": [
       "'Hello world'"
      ]
     },
     "execution_count": 2,
     "metadata": {},
     "output_type": "execute_result"
    }
   ],
   "source": [
    "'Hello'+ ' world'"
   ]
  },
  {
   "cell_type": "code",
   "execution_count": null,
   "id": "04ae8da3-3802-4f0b-961d-1c8eec21b5e2",
   "metadata": {},
   "outputs": [],
   "source": []
  }
 ],
 "metadata": {
  "kernelspec": {
   "display_name": "Python 3",
   "language": "python",
   "name": "python3"
  },
  "language_info": {
   "codemirror_mode": {
    "name": "ipython",
    "version": 3
   },
   "file_extension": ".py",
   "mimetype": "text/x-python",
   "name": "python",
   "nbconvert_exporter": "python",
   "pygments_lexer": "ipython3",
   "version": "3.8.8"
  }
 },
 "nbformat": 4,
 "nbformat_minor": 5
}
